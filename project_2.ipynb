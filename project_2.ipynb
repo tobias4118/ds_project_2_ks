{
 "metadata": {
  "language_info": {
   "codemirror_mode": {
    "name": "ipython",
    "version": 3
   },
   "file_extension": ".py",
   "mimetype": "text/x-python",
   "name": "python",
   "nbconvert_exporter": "python",
   "pygments_lexer": "ipython3",
   "version": "3.8.5"
  },
  "orig_nbformat": 4,
  "kernelspec": {
   "name": "python3",
   "display_name": "Python 3.8.5 64-bit ('.venv')"
  },
  "interpreter": {
   "hash": "af21721c77c262e837dd76483ea0bbb8ffe4a440d6a6ef57c0679e5b42671386"
  }
 },
 "nbformat": 4,
 "nbformat_minor": 2,
 "cells": [
  {
   "cell_type": "code",
   "execution_count": 1,
   "metadata": {},
   "outputs": [],
   "source": [
    "import pandas as pd\n",
    "import glob"
   ]
  },
  {
   "cell_type": "code",
   "execution_count": 2,
   "metadata": {},
   "outputs": [],
   "source": [
    "ks000 = pd.read_csv('data/Kickstarter000.csv')"
   ]
  },
  {
   "cell_type": "code",
   "execution_count": 3,
   "metadata": {},
   "outputs": [
    {
     "output_type": "execute_result",
     "data": {
      "text/plain": [
       "   backers_count                                              blurb  \\\n",
       "0             21  2006 was almost 7 years ago.... Can you believ...   \n",
       "1             97  An adorable fantasy enamel pin series of princ...   \n",
       "2             88  Helping a community come together to set the s...   \n",
       "3            193  Every revolution starts from the bottom and we...   \n",
       "4             20  Learn to build 10+ Applications in this comple...   \n",
       "\n",
       "                                            category  \\\n",
       "0  {\"id\":43,\"name\":\"Rock\",\"slug\":\"music/rock\",\"po...   \n",
       "1  {\"id\":54,\"name\":\"Mixed Media\",\"slug\":\"art/mixe...   \n",
       "2  {\"id\":280,\"name\":\"Photobooks\",\"slug\":\"photogra...   \n",
       "3  {\"id\":266,\"name\":\"Footwear\",\"slug\":\"fashion/fo...   \n",
       "4  {\"id\":51,\"name\":\"Software\",\"slug\":\"technology/...   \n",
       "\n",
       "   converted_pledged_amount country  created_at  \\\n",
       "0                       802      US  1387659690   \n",
       "1                      2259      US  1549659768   \n",
       "2                     29638      US  1477242384   \n",
       "3                     49158      IT  1540369920   \n",
       "4                       549      US  1425706517   \n",
       "\n",
       "                                             creator currency currency_symbol  \\\n",
       "0  {\"id\":1495925645,\"name\":\"Daniel\",\"is_registere...      USD               $   \n",
       "1  {\"id\":1175589980,\"name\":\"Katherine\",\"slug\":\"fr...      USD               $   \n",
       "2  {\"id\":1196856269,\"name\":\"MelissaThomas\",\"is_re...      USD               $   \n",
       "3  {\"id\":1569700626,\"name\":\"WAO\",\"slug\":\"wearewao...      EUR               €   \n",
       "4  {\"id\":1870845385,\"name\":\"Kalpit Jain\",\"is_regi...      USD               $   \n",
       "\n",
       "   currency_trailing_code  ...  \\\n",
       "0                    True  ...   \n",
       "1                    True  ...   \n",
       "2                    True  ...   \n",
       "3                   False  ...   \n",
       "4                    True  ...   \n",
       "\n",
       "                                                slug  \\\n",
       "0                              new-final-round-album   \n",
       "1                    princess-pals-enamel-pin-series   \n",
       "2  their-life-through-their-lens-the-amish-and-me...   \n",
       "3                           wao-the-eco-effect-shoes   \n",
       "4                     apple-watch-development-course   \n",
       "\n",
       "                                          source_url  spotlight staff_pick  \\\n",
       "0  https://www.kickstarter.com/discover/categorie...       True      False   \n",
       "1  https://www.kickstarter.com/discover/categorie...       True      False   \n",
       "2  https://www.kickstarter.com/discover/categorie...       True       True   \n",
       "3  https://www.kickstarter.com/discover/categorie...       True      False   \n",
       "4  https://www.kickstarter.com/discover/categorie...      False      False   \n",
       "\n",
       "        state  state_changed_at  static_usd_rate  \\\n",
       "0  successful        1391899046         1.000000   \n",
       "1  successful        1551801611         1.000000   \n",
       "2  successful        1480607932         1.000000   \n",
       "3  successful        1544309940         1.136525   \n",
       "4      failed        1428511019         1.000000   \n",
       "\n",
       "                                                urls  usd_pledged  \\\n",
       "0  {\"web\":{\"project\":\"https://www.kickstarter.com...    802.00000   \n",
       "1  {\"web\":{\"project\":\"https://www.kickstarter.com...   2259.00000   \n",
       "2  {\"web\":{\"project\":\"https://www.kickstarter.com...  29638.00000   \n",
       "3  {\"web\":{\"project\":\"https://www.kickstarter.com...  49075.15252   \n",
       "4  {\"web\":{\"project\":\"https://www.kickstarter.com...    549.00000   \n",
       "\n",
       "        usd_type  \n",
       "0  international  \n",
       "1  international  \n",
       "2  international  \n",
       "3  international  \n",
       "4       domestic  \n",
       "\n",
       "[5 rows x 37 columns]"
      ],
      "text/html": "<div>\n<style scoped>\n    .dataframe tbody tr th:only-of-type {\n        vertical-align: middle;\n    }\n\n    .dataframe tbody tr th {\n        vertical-align: top;\n    }\n\n    .dataframe thead th {\n        text-align: right;\n    }\n</style>\n<table border=\"1\" class=\"dataframe\">\n  <thead>\n    <tr style=\"text-align: right;\">\n      <th></th>\n      <th>backers_count</th>\n      <th>blurb</th>\n      <th>category</th>\n      <th>converted_pledged_amount</th>\n      <th>country</th>\n      <th>created_at</th>\n      <th>creator</th>\n      <th>currency</th>\n      <th>currency_symbol</th>\n      <th>currency_trailing_code</th>\n      <th>...</th>\n      <th>slug</th>\n      <th>source_url</th>\n      <th>spotlight</th>\n      <th>staff_pick</th>\n      <th>state</th>\n      <th>state_changed_at</th>\n      <th>static_usd_rate</th>\n      <th>urls</th>\n      <th>usd_pledged</th>\n      <th>usd_type</th>\n    </tr>\n  </thead>\n  <tbody>\n    <tr>\n      <th>0</th>\n      <td>21</td>\n      <td>2006 was almost 7 years ago.... Can you believ...</td>\n      <td>{\"id\":43,\"name\":\"Rock\",\"slug\":\"music/rock\",\"po...</td>\n      <td>802</td>\n      <td>US</td>\n      <td>1387659690</td>\n      <td>{\"id\":1495925645,\"name\":\"Daniel\",\"is_registere...</td>\n      <td>USD</td>\n      <td>$</td>\n      <td>True</td>\n      <td>...</td>\n      <td>new-final-round-album</td>\n      <td>https://www.kickstarter.com/discover/categorie...</td>\n      <td>True</td>\n      <td>False</td>\n      <td>successful</td>\n      <td>1391899046</td>\n      <td>1.000000</td>\n      <td>{\"web\":{\"project\":\"https://www.kickstarter.com...</td>\n      <td>802.00000</td>\n      <td>international</td>\n    </tr>\n    <tr>\n      <th>1</th>\n      <td>97</td>\n      <td>An adorable fantasy enamel pin series of princ...</td>\n      <td>{\"id\":54,\"name\":\"Mixed Media\",\"slug\":\"art/mixe...</td>\n      <td>2259</td>\n      <td>US</td>\n      <td>1549659768</td>\n      <td>{\"id\":1175589980,\"name\":\"Katherine\",\"slug\":\"fr...</td>\n      <td>USD</td>\n      <td>$</td>\n      <td>True</td>\n      <td>...</td>\n      <td>princess-pals-enamel-pin-series</td>\n      <td>https://www.kickstarter.com/discover/categorie...</td>\n      <td>True</td>\n      <td>False</td>\n      <td>successful</td>\n      <td>1551801611</td>\n      <td>1.000000</td>\n      <td>{\"web\":{\"project\":\"https://www.kickstarter.com...</td>\n      <td>2259.00000</td>\n      <td>international</td>\n    </tr>\n    <tr>\n      <th>2</th>\n      <td>88</td>\n      <td>Helping a community come together to set the s...</td>\n      <td>{\"id\":280,\"name\":\"Photobooks\",\"slug\":\"photogra...</td>\n      <td>29638</td>\n      <td>US</td>\n      <td>1477242384</td>\n      <td>{\"id\":1196856269,\"name\":\"MelissaThomas\",\"is_re...</td>\n      <td>USD</td>\n      <td>$</td>\n      <td>True</td>\n      <td>...</td>\n      <td>their-life-through-their-lens-the-amish-and-me...</td>\n      <td>https://www.kickstarter.com/discover/categorie...</td>\n      <td>True</td>\n      <td>True</td>\n      <td>successful</td>\n      <td>1480607932</td>\n      <td>1.000000</td>\n      <td>{\"web\":{\"project\":\"https://www.kickstarter.com...</td>\n      <td>29638.00000</td>\n      <td>international</td>\n    </tr>\n    <tr>\n      <th>3</th>\n      <td>193</td>\n      <td>Every revolution starts from the bottom and we...</td>\n      <td>{\"id\":266,\"name\":\"Footwear\",\"slug\":\"fashion/fo...</td>\n      <td>49158</td>\n      <td>IT</td>\n      <td>1540369920</td>\n      <td>{\"id\":1569700626,\"name\":\"WAO\",\"slug\":\"wearewao...</td>\n      <td>EUR</td>\n      <td>€</td>\n      <td>False</td>\n      <td>...</td>\n      <td>wao-the-eco-effect-shoes</td>\n      <td>https://www.kickstarter.com/discover/categorie...</td>\n      <td>True</td>\n      <td>False</td>\n      <td>successful</td>\n      <td>1544309940</td>\n      <td>1.136525</td>\n      <td>{\"web\":{\"project\":\"https://www.kickstarter.com...</td>\n      <td>49075.15252</td>\n      <td>international</td>\n    </tr>\n    <tr>\n      <th>4</th>\n      <td>20</td>\n      <td>Learn to build 10+ Applications in this comple...</td>\n      <td>{\"id\":51,\"name\":\"Software\",\"slug\":\"technology/...</td>\n      <td>549</td>\n      <td>US</td>\n      <td>1425706517</td>\n      <td>{\"id\":1870845385,\"name\":\"Kalpit Jain\",\"is_regi...</td>\n      <td>USD</td>\n      <td>$</td>\n      <td>True</td>\n      <td>...</td>\n      <td>apple-watch-development-course</td>\n      <td>https://www.kickstarter.com/discover/categorie...</td>\n      <td>False</td>\n      <td>False</td>\n      <td>failed</td>\n      <td>1428511019</td>\n      <td>1.000000</td>\n      <td>{\"web\":{\"project\":\"https://www.kickstarter.com...</td>\n      <td>549.00000</td>\n      <td>domestic</td>\n    </tr>\n  </tbody>\n</table>\n<p>5 rows × 37 columns</p>\n</div>"
     },
     "metadata": {},
     "execution_count": 3
    }
   ],
   "source": [
    "ks000.head()"
   ]
  },
  {
   "cell_type": "code",
   "execution_count": 4,
   "metadata": {},
   "outputs": [
    {
     "output_type": "stream",
     "name": "stdout",
     "text": [
      "<class 'pandas.core.frame.DataFrame'>\nRangeIndex: 3779 entries, 0 to 3778\nData columns (total 37 columns):\n #   Column                    Non-Null Count  Dtype  \n---  ------                    --------------  -----  \n 0   backers_count             3779 non-null   int64  \n 1   blurb                     3779 non-null   object \n 2   category                  3779 non-null   object \n 3   converted_pledged_amount  3779 non-null   int64  \n 4   country                   3779 non-null   object \n 5   created_at                3779 non-null   int64  \n 6   creator                   3779 non-null   object \n 7   currency                  3779 non-null   object \n 8   currency_symbol           3779 non-null   object \n 9   currency_trailing_code    3779 non-null   bool   \n 10  current_currency          3779 non-null   object \n 11  deadline                  3779 non-null   int64  \n 12  disable_communication     3779 non-null   bool   \n 13  friends                   8 non-null      object \n 14  fx_rate                   3779 non-null   float64\n 15  goal                      3779 non-null   float64\n 16  id                        3779 non-null   int64  \n 17  is_backing                8 non-null      object \n 18  is_starrable              3779 non-null   bool   \n 19  is_starred                8 non-null      object \n 20  launched_at               3779 non-null   int64  \n 21  location                  3775 non-null   object \n 22  name                      3779 non-null   object \n 23  permissions               8 non-null      object \n 24  photo                     3779 non-null   object \n 25  pledged                   3779 non-null   float64\n 26  profile                   3779 non-null   object \n 27  slug                      3779 non-null   object \n 28  source_url                3779 non-null   object \n 29  spotlight                 3779 non-null   bool   \n 30  staff_pick                3779 non-null   bool   \n 31  state                     3779 non-null   object \n 32  state_changed_at          3779 non-null   int64  \n 33  static_usd_rate           3779 non-null   float64\n 34  urls                      3779 non-null   object \n 35  usd_pledged               3779 non-null   float64\n 36  usd_type                  3764 non-null   object \ndtypes: bool(5), float64(5), int64(7), object(20)\nmemory usage: 963.3+ KB\n"
     ]
    }
   ],
   "source": [
    "ks000.info()"
   ]
  },
  {
   "cell_type": "code",
   "execution_count": 5,
   "metadata": {},
   "outputs": [],
   "source": [
    "ks010 = pd.read_csv('data/Kickstarter010.csv')"
   ]
  },
  {
   "cell_type": "code",
   "execution_count": 6,
   "metadata": {},
   "outputs": [
    {
     "output_type": "stream",
     "name": "stdout",
     "text": [
      "<class 'pandas.core.frame.DataFrame'>\nRangeIndex: 3786 entries, 0 to 3785\nData columns (total 37 columns):\n #   Column                    Non-Null Count  Dtype  \n---  ------                    --------------  -----  \n 0   backers_count             3786 non-null   int64  \n 1   blurb                     3786 non-null   object \n 2   category                  3786 non-null   object \n 3   converted_pledged_amount  3786 non-null   int64  \n 4   country                   3786 non-null   object \n 5   created_at                3786 non-null   int64  \n 6   creator                   3786 non-null   object \n 7   currency                  3786 non-null   object \n 8   currency_symbol           3786 non-null   object \n 9   currency_trailing_code    3786 non-null   bool   \n 10  current_currency          3786 non-null   object \n 11  deadline                  3786 non-null   int64  \n 12  disable_communication     3786 non-null   bool   \n 13  friends                   5 non-null      object \n 14  fx_rate                   3786 non-null   float64\n 15  goal                      3786 non-null   float64\n 16  id                        3786 non-null   int64  \n 17  is_backing                5 non-null      object \n 18  is_starrable              3786 non-null   bool   \n 19  is_starred                5 non-null      object \n 20  launched_at               3786 non-null   int64  \n 21  location                  3781 non-null   object \n 22  name                      3786 non-null   object \n 23  permissions               5 non-null      object \n 24  photo                     3786 non-null   object \n 25  pledged                   3786 non-null   float64\n 26  profile                   3786 non-null   object \n 27  slug                      3786 non-null   object \n 28  source_url                3786 non-null   object \n 29  spotlight                 3786 non-null   bool   \n 30  staff_pick                3786 non-null   bool   \n 31  state                     3786 non-null   object \n 32  state_changed_at          3786 non-null   int64  \n 33  static_usd_rate           3786 non-null   float64\n 34  urls                      3786 non-null   object \n 35  usd_pledged               3786 non-null   float64\n 36  usd_type                  3780 non-null   object \ndtypes: bool(5), float64(5), int64(7), object(20)\nmemory usage: 965.1+ KB\n"
     ]
    }
   ],
   "source": [
    "ks010.info()"
   ]
  },
  {
   "cell_type": "code",
   "execution_count": 7,
   "metadata": {},
   "outputs": [
    {
     "output_type": "stream",
     "name": "stdout",
     "text": [
      "Index(['backers_count', 'blurb', 'category', 'converted_pledged_amount',\n       'country', 'created_at', 'creator', 'currency', 'currency_symbol',\n       'currency_trailing_code', 'current_currency', 'deadline',\n       'disable_communication', 'friends', 'fx_rate', 'goal', 'id',\n       'is_backing', 'is_starrable', 'is_starred', 'launched_at', 'location',\n       'name', 'permissions', 'photo', 'pledged', 'profile', 'slug',\n       'source_url', 'spotlight', 'staff_pick', 'state', 'state_changed_at',\n       'static_usd_rate', 'urls', 'usd_pledged', 'usd_type'],\n      dtype='object')\n"
     ]
    }
   ],
   "source": [
    "print(ks000.columns)"
   ]
  },
  {
   "cell_type": "code",
   "execution_count": 8,
   "metadata": {},
   "outputs": [
    {
     "output_type": "execute_result",
     "data": {
      "text/plain": [
       "Index(['backers_count', 'blurb', 'category', 'converted_pledged_amount',\n",
       "       'country', 'created_at', 'creator', 'currency', 'currency_symbol',\n",
       "       'currency_trailing_code', 'current_currency', 'deadline',\n",
       "       'disable_communication', 'friends', 'fx_rate', 'goal', 'id',\n",
       "       'is_backing', 'is_starrable', 'is_starred', 'launched_at', 'location',\n",
       "       'name', 'permissions', 'photo', 'pledged', 'profile', 'slug',\n",
       "       'source_url', 'spotlight', 'staff_pick', 'state', 'state_changed_at',\n",
       "       'static_usd_rate', 'urls', 'usd_pledged', 'usd_type'],\n",
       "      dtype='object')"
      ]
     },
     "metadata": {},
     "execution_count": 8
    }
   ],
   "source": [
    "ks010.columns"
   ]
  },
  {
   "source": [
    "- the column names are the same between csv files"
   ],
   "cell_type": "markdown",
   "metadata": {}
  },
  {
   "source": [
    "## Combining data into single dataframe"
   ],
   "cell_type": "markdown",
   "metadata": {}
  },
  {
   "cell_type": "code",
   "execution_count": 9,
   "metadata": {},
   "outputs": [],
   "source": [
    "\n",
    "\n",
    "path = r'data'\n",
    "all_files = glob.glob(path + '/*.csv')\n",
    "\n",
    "li = []\n",
    "\n",
    "for filename in all_files:\n",
    "    df = pd.read_csv(filename, index_col=None, header=0)\n",
    "    li.append(df)\n",
    "\n",
    "frame = pd.concat(li, axis=0, ignore_index=True)"
   ]
  },
  {
   "cell_type": "code",
   "execution_count": 10,
   "metadata": {},
   "outputs": [
    {
     "output_type": "stream",
     "name": "stdout",
     "text": [
      "<class 'pandas.core.frame.DataFrame'>\nRangeIndex: 209222 entries, 0 to 209221\nData columns (total 37 columns):\n #   Column                    Non-Null Count   Dtype  \n---  ------                    --------------   -----  \n 0   backers_count             209222 non-null  int64  \n 1   blurb                     209214 non-null  object \n 2   category                  209222 non-null  object \n 3   converted_pledged_amount  209222 non-null  int64  \n 4   country                   209222 non-null  object \n 5   created_at                209222 non-null  int64  \n 6   creator                   209222 non-null  object \n 7   currency                  209222 non-null  object \n 8   currency_symbol           209222 non-null  object \n 9   currency_trailing_code    209222 non-null  bool   \n 10  current_currency          209222 non-null  object \n 11  deadline                  209222 non-null  int64  \n 12  disable_communication     209222 non-null  bool   \n 13  friends                   300 non-null     object \n 14  fx_rate                   209222 non-null  float64\n 15  goal                      209222 non-null  float64\n 16  id                        209222 non-null  int64  \n 17  is_backing                300 non-null     object \n 18  is_starrable              209222 non-null  bool   \n 19  is_starred                300 non-null     object \n 20  launched_at               209222 non-null  int64  \n 21  location                  208996 non-null  object \n 22  name                      209222 non-null  object \n 23  permissions               300 non-null     object \n 24  photo                     209222 non-null  object \n 25  pledged                   209222 non-null  float64\n 26  profile                   209222 non-null  object \n 27  slug                      209222 non-null  object \n 28  source_url                209222 non-null  object \n 29  spotlight                 209222 non-null  bool   \n 30  staff_pick                209222 non-null  bool   \n 31  state                     209222 non-null  object \n 32  state_changed_at          209222 non-null  int64  \n 33  static_usd_rate           209222 non-null  float64\n 34  urls                      209222 non-null  object \n 35  usd_pledged               209222 non-null  float64\n 36  usd_type                  208742 non-null  object \ndtypes: bool(5), float64(5), int64(7), object(20)\nmemory usage: 52.1+ MB\n"
     ]
    }
   ],
   "source": [
    "frame.info()"
   ]
  },
  {
   "source": [
    "## Dealing with duplicates"
   ],
   "cell_type": "markdown",
   "metadata": {}
  },
  {
   "cell_type": "code",
   "execution_count": 11,
   "metadata": {},
   "outputs": [
    {
     "output_type": "execute_result",
     "data": {
      "text/plain": [
       "182264"
      ]
     },
     "metadata": {},
     "execution_count": 11
    }
   ],
   "source": [
    "# check for duplicate records\n",
    "frame['id'].nunique()"
   ]
  },
  {
   "cell_type": "code",
   "execution_count": 12,
   "metadata": {},
   "outputs": [
    {
     "output_type": "execute_result",
     "data": {
      "text/plain": [
       "181680"
      ]
     },
     "metadata": {},
     "execution_count": 12
    }
   ],
   "source": [
    "frame['name'].nunique()"
   ]
  },
  {
   "cell_type": "code",
   "execution_count": 13,
   "metadata": {},
   "outputs": [
    {
     "output_type": "execute_result",
     "data": {
      "text/plain": [
       "1073911617    3\n",
       "1860103231    2\n",
       "1335851549    2\n",
       "860973294     2\n",
       "938836477     2\n",
       "             ..\n",
       "1383529874    1\n",
       "1475274867    1\n",
       "122605684     1\n",
       "487759540     1\n",
       "41420799      1\n",
       "Name: id, Length: 182264, dtype: int64"
      ]
     },
     "metadata": {},
     "execution_count": 13
    }
   ],
   "source": [
    "frame['id'].value_counts()"
   ]
  },
  {
   "cell_type": "code",
   "execution_count": 14,
   "metadata": {},
   "outputs": [
    {
     "output_type": "stream",
     "name": "stdout",
     "text": [
      "        backers_count                                              blurb  \\\n67948             149  Help make a set of enamel pins for each class ...   \n102013            149  Help make a set of enamel pins for each class ...   \n121786            149  Help make a set of enamel pins for each class ...   \n\n                                                 category  \\\n67948   {\"id\":262,\"name\":\"Accessories\",\"slug\":\"fashion...   \n102013  {\"id\":262,\"name\":\"Accessories\",\"slug\":\"fashion...   \n121786  {\"id\":262,\"name\":\"Accessories\",\"slug\":\"fashion...   \n\n        converted_pledged_amount country  created_at  \\\n67948                       5276      AU  1550031951   \n102013                      5276      AU  1550031951   \n121786                      5276      AU  1550031951   \n\n                                                  creator currency  \\\n67948   {\"id\":899893777,\"name\":\"The Grumpy Unicorn\",\"s...      AUD   \n102013  {\"id\":899893777,\"name\":\"The Grumpy Unicorn\",\"s...      AUD   \n121786  {\"id\":899893777,\"name\":\"The Grumpy Unicorn\",\"s...      AUD   \n\n       currency_symbol  currency_trailing_code  ...  \\\n67948                $                    True  ...   \n102013               $                    True  ...   \n121786               $                    True  ...   \n\n                                                 slug  \\\n67948   glass-classes-a-set-of-dandd-hard-enamel-pins   \n102013  glass-classes-a-set-of-dandd-hard-enamel-pins   \n121786  glass-classes-a-set-of-dandd-hard-enamel-pins   \n\n                                               source_url  spotlight  \\\n67948   https://www.kickstarter.com/discover/categorie...       True   \n102013  https://www.kickstarter.com/discover/categorie...      False   \n121786  https://www.kickstarter.com/discover/categorie...       True   \n\n       staff_pick       state  state_changed_at  static_usd_rate  \\\n67948       False  successful        1552535135         0.711293   \n102013      False        live        1550724331         0.716512   \n121786      False  successful        1552535135         0.711293   \n\n                                                     urls  usd_pledged  \\\n67948   {\"web\":{\"project\":\"https://www.kickstarter.com...  5317.851839   \n102013  {\"web\":{\"project\":\"https://www.kickstarter.com...  5356.869332   \n121786  {\"web\":{\"project\":\"https://www.kickstarter.com...  5317.851839   \n\n             usd_type  \n67948   international  \n102013  international  \n121786       domestic  \n\n[3 rows x 37 columns]\n"
     ]
    }
   ],
   "source": [
    "print(frame[frame['id']==1073911617])"
   ]
  },
  {
   "cell_type": "code",
   "execution_count": 15,
   "metadata": {},
   "outputs": [
    {
     "output_type": "execute_result",
     "data": {
      "text/plain": [
       "successful    117465\n",
       "failed         75199\n",
       "canceled        8624\n",
       "live            7311\n",
       "suspended        623\n",
       "Name: state, dtype: int64"
      ]
     },
     "metadata": {},
     "execution_count": 15
    }
   ],
   "source": [
    "# state column should be our final predicted variable--what is in that column?\n",
    "\n",
    "frame['state'].value_counts()"
   ]
  },
  {
   "cell_type": "code",
   "execution_count": 16,
   "metadata": {},
   "outputs": [],
   "source": [
    "# we want to drop any rows that don't have 'successful' or 'failed' state\n",
    "a = ['successful', 'failed']\n",
    "frame = frame[frame['state'].isin(a)]"
   ]
  },
  {
   "cell_type": "code",
   "execution_count": 17,
   "metadata": {},
   "outputs": [
    {
     "output_type": "execute_result",
     "data": {
      "text/plain": [
       "   backers_count                                              blurb  \\\n",
       "1             47  A colorful Dia de los Muertos themed oracle de...   \n",
       "2            271  Electra's long awaited, eclectic Debut Pop/Roc...   \n",
       "3              3  The Mist of Tribunal is a turn-based card game...   \n",
       "4              3  Livng with a brain impairment, what its like t...   \n",
       "5             35  Annapolis Chamber Players is a non-for profit ...   \n",
       "\n",
       "                                            category  \\\n",
       "1  {\"id\":273,\"name\":\"Playing Cards\",\"slug\":\"games...   \n",
       "2  {\"id\":43,\"name\":\"Rock\",\"slug\":\"music/rock\",\"po...   \n",
       "3  {\"id\":273,\"name\":\"Playing Cards\",\"slug\":\"games...   \n",
       "4  {\"id\":48,\"name\":\"Nonfiction\",\"slug\":\"publishin...   \n",
       "5  {\"id\":36,\"name\":\"Classical Music\",\"slug\":\"musi...   \n",
       "\n",
       "   converted_pledged_amount country  created_at  \\\n",
       "1                      1950      US  1501684093   \n",
       "2                     22404      US  1348987533   \n",
       "3                       165      GB  1483780271   \n",
       "4                      2820      US  1354817071   \n",
       "5                      3725      US  1414172150   \n",
       "\n",
       "                                             creator currency currency_symbol  \\\n",
       "1  {\"id\":723886115,\"name\":\"Lisa Vollrath\",\"slug\":...      USD               $   \n",
       "2  {\"id\":323849677,\"name\":\"Electra\",\"is_registere...      USD               $   \n",
       "3  {\"id\":196281496,\"name\":\"Artur Ordijanc (delete...      GBP               £   \n",
       "4  {\"id\":1178460181,\"name\":\"Dawn Johnston\",\"is_re...      USD               $   \n",
       "5  {\"id\":682189804,\"name\":\"Annapolis Chamber Play...      USD               $   \n",
       "\n",
       "   currency_trailing_code  ...  \\\n",
       "1                    True  ...   \n",
       "2                    True  ...   \n",
       "3                   False  ...   \n",
       "4                    True  ...   \n",
       "5                    True  ...   \n",
       "\n",
       "                                             slug  \\\n",
       "1                         the-ofrenda-oracle-deck   \n",
       "2  record-electras-debut-album-pop-rock-classical   \n",
       "3                the-mist-of-tribunal-a-card-game   \n",
       "4        help-change-the-face-of-brain-impairment   \n",
       "5                 annapolis-chamber-music-project   \n",
       "\n",
       "                                          source_url  spotlight staff_pick  \\\n",
       "1  https://www.kickstarter.com/discover/categorie...       True      False   \n",
       "2  https://www.kickstarter.com/discover/categorie...       True      False   \n",
       "3  https://www.kickstarter.com/discover/categorie...      False      False   \n",
       "4  https://www.kickstarter.com/discover/categorie...       True      False   \n",
       "5  https://www.kickstarter.com/discover/categorie...       True      False   \n",
       "\n",
       "        state  state_changed_at  static_usd_rate  \\\n",
       "1  successful        1504976459         1.000000   \n",
       "2  successful        1371013395         1.000000   \n",
       "3      failed        1489425776         1.216066   \n",
       "4  successful        1357763527         1.000000   \n",
       "5  successful        1430533546         1.000000   \n",
       "\n",
       "                                                urls   usd_pledged  \\\n",
       "1  {\"web\":{\"project\":\"https://www.kickstarter.com...   1950.000000   \n",
       "2  {\"web\":{\"project\":\"https://www.kickstarter.com...  22404.000000   \n",
       "3  {\"web\":{\"project\":\"https://www.kickstarter.com...    165.384934   \n",
       "4  {\"web\":{\"project\":\"https://www.kickstarter.com...   2820.000000   \n",
       "5  {\"web\":{\"project\":\"https://www.kickstarter.com...   3725.000000   \n",
       "\n",
       "        usd_type  \n",
       "1       domestic  \n",
       "2  international  \n",
       "3       domestic  \n",
       "4       domestic  \n",
       "5       domestic  \n",
       "\n",
       "[5 rows x 37 columns]"
      ],
      "text/html": "<div>\n<style scoped>\n    .dataframe tbody tr th:only-of-type {\n        vertical-align: middle;\n    }\n\n    .dataframe tbody tr th {\n        vertical-align: top;\n    }\n\n    .dataframe thead th {\n        text-align: right;\n    }\n</style>\n<table border=\"1\" class=\"dataframe\">\n  <thead>\n    <tr style=\"text-align: right;\">\n      <th></th>\n      <th>backers_count</th>\n      <th>blurb</th>\n      <th>category</th>\n      <th>converted_pledged_amount</th>\n      <th>country</th>\n      <th>created_at</th>\n      <th>creator</th>\n      <th>currency</th>\n      <th>currency_symbol</th>\n      <th>currency_trailing_code</th>\n      <th>...</th>\n      <th>slug</th>\n      <th>source_url</th>\n      <th>spotlight</th>\n      <th>staff_pick</th>\n      <th>state</th>\n      <th>state_changed_at</th>\n      <th>static_usd_rate</th>\n      <th>urls</th>\n      <th>usd_pledged</th>\n      <th>usd_type</th>\n    </tr>\n  </thead>\n  <tbody>\n    <tr>\n      <th>1</th>\n      <td>47</td>\n      <td>A colorful Dia de los Muertos themed oracle de...</td>\n      <td>{\"id\":273,\"name\":\"Playing Cards\",\"slug\":\"games...</td>\n      <td>1950</td>\n      <td>US</td>\n      <td>1501684093</td>\n      <td>{\"id\":723886115,\"name\":\"Lisa Vollrath\",\"slug\":...</td>\n      <td>USD</td>\n      <td>$</td>\n      <td>True</td>\n      <td>...</td>\n      <td>the-ofrenda-oracle-deck</td>\n      <td>https://www.kickstarter.com/discover/categorie...</td>\n      <td>True</td>\n      <td>False</td>\n      <td>successful</td>\n      <td>1504976459</td>\n      <td>1.000000</td>\n      <td>{\"web\":{\"project\":\"https://www.kickstarter.com...</td>\n      <td>1950.000000</td>\n      <td>domestic</td>\n    </tr>\n    <tr>\n      <th>2</th>\n      <td>271</td>\n      <td>Electra's long awaited, eclectic Debut Pop/Roc...</td>\n      <td>{\"id\":43,\"name\":\"Rock\",\"slug\":\"music/rock\",\"po...</td>\n      <td>22404</td>\n      <td>US</td>\n      <td>1348987533</td>\n      <td>{\"id\":323849677,\"name\":\"Electra\",\"is_registere...</td>\n      <td>USD</td>\n      <td>$</td>\n      <td>True</td>\n      <td>...</td>\n      <td>record-electras-debut-album-pop-rock-classical</td>\n      <td>https://www.kickstarter.com/discover/categorie...</td>\n      <td>True</td>\n      <td>False</td>\n      <td>successful</td>\n      <td>1371013395</td>\n      <td>1.000000</td>\n      <td>{\"web\":{\"project\":\"https://www.kickstarter.com...</td>\n      <td>22404.000000</td>\n      <td>international</td>\n    </tr>\n    <tr>\n      <th>3</th>\n      <td>3</td>\n      <td>The Mist of Tribunal is a turn-based card game...</td>\n      <td>{\"id\":273,\"name\":\"Playing Cards\",\"slug\":\"games...</td>\n      <td>165</td>\n      <td>GB</td>\n      <td>1483780271</td>\n      <td>{\"id\":196281496,\"name\":\"Artur Ordijanc (delete...</td>\n      <td>GBP</td>\n      <td>£</td>\n      <td>False</td>\n      <td>...</td>\n      <td>the-mist-of-tribunal-a-card-game</td>\n      <td>https://www.kickstarter.com/discover/categorie...</td>\n      <td>False</td>\n      <td>False</td>\n      <td>failed</td>\n      <td>1489425776</td>\n      <td>1.216066</td>\n      <td>{\"web\":{\"project\":\"https://www.kickstarter.com...</td>\n      <td>165.384934</td>\n      <td>domestic</td>\n    </tr>\n    <tr>\n      <th>4</th>\n      <td>3</td>\n      <td>Livng with a brain impairment, what its like t...</td>\n      <td>{\"id\":48,\"name\":\"Nonfiction\",\"slug\":\"publishin...</td>\n      <td>2820</td>\n      <td>US</td>\n      <td>1354817071</td>\n      <td>{\"id\":1178460181,\"name\":\"Dawn Johnston\",\"is_re...</td>\n      <td>USD</td>\n      <td>$</td>\n      <td>True</td>\n      <td>...</td>\n      <td>help-change-the-face-of-brain-impairment</td>\n      <td>https://www.kickstarter.com/discover/categorie...</td>\n      <td>True</td>\n      <td>False</td>\n      <td>successful</td>\n      <td>1357763527</td>\n      <td>1.000000</td>\n      <td>{\"web\":{\"project\":\"https://www.kickstarter.com...</td>\n      <td>2820.000000</td>\n      <td>domestic</td>\n    </tr>\n    <tr>\n      <th>5</th>\n      <td>35</td>\n      <td>Annapolis Chamber Players is a non-for profit ...</td>\n      <td>{\"id\":36,\"name\":\"Classical Music\",\"slug\":\"musi...</td>\n      <td>3725</td>\n      <td>US</td>\n      <td>1414172150</td>\n      <td>{\"id\":682189804,\"name\":\"Annapolis Chamber Play...</td>\n      <td>USD</td>\n      <td>$</td>\n      <td>True</td>\n      <td>...</td>\n      <td>annapolis-chamber-music-project</td>\n      <td>https://www.kickstarter.com/discover/categorie...</td>\n      <td>True</td>\n      <td>False</td>\n      <td>successful</td>\n      <td>1430533546</td>\n      <td>1.000000</td>\n      <td>{\"web\":{\"project\":\"https://www.kickstarter.com...</td>\n      <td>3725.000000</td>\n      <td>domestic</td>\n    </tr>\n  </tbody>\n</table>\n<p>5 rows × 37 columns</p>\n</div>"
     },
     "metadata": {},
     "execution_count": 17
    }
   ],
   "source": [
    "frame.head()"
   ]
  },
  {
   "cell_type": "code",
   "execution_count": 18,
   "metadata": {},
   "outputs": [
    {
     "output_type": "execute_result",
     "data": {
      "text/plain": [
       "successful    117465\n",
       "failed         75199\n",
       "Name: state, dtype: int64"
      ]
     },
     "metadata": {},
     "execution_count": 18
    }
   ],
   "source": [
    "frame['state'].value_counts()"
   ]
  },
  {
   "cell_type": "code",
   "execution_count": 19,
   "metadata": {},
   "outputs": [
    {
     "output_type": "execute_result",
     "data": {
      "text/plain": [
       "168979"
      ]
     },
     "metadata": {},
     "execution_count": 19
    }
   ],
   "source": [
    "# check for unique records\n",
    "frame['id'].nunique()"
   ]
  },
  {
   "cell_type": "code",
   "execution_count": 20,
   "metadata": {},
   "outputs": [
    {
     "output_type": "execute_result",
     "data": {
      "text/plain": [
       "168461"
      ]
     },
     "metadata": {},
     "execution_count": 20
    }
   ],
   "source": [
    "# check for duplicate records\n",
    "frame['name'].nunique()"
   ]
  },
  {
   "cell_type": "code",
   "execution_count": 21,
   "metadata": {},
   "outputs": [
    {
     "output_type": "execute_result",
     "data": {
      "text/plain": [
       "484859009     2\n",
       "378920150     2\n",
       "825148597     2\n",
       "940105647     2\n",
       "708119476     2\n",
       "             ..\n",
       "1590346219    1\n",
       "2015788770    1\n",
       "1944890758    1\n",
       "302403300     1\n",
       "41420799      1\n",
       "Name: id, Length: 168979, dtype: int64"
      ]
     },
     "metadata": {},
     "execution_count": 21
    }
   ],
   "source": [
    "frame['id'].value_counts()"
   ]
  },
  {
   "cell_type": "code",
   "execution_count": 22,
   "metadata": {},
   "outputs": [
    {
     "output_type": "execute_result",
     "data": {
      "text/plain": [
       "        backers_count                                              blurb  \\\n",
       "28847              51  A new dark comedy play about a man who creates...   \n",
       "105156             51  A new dark comedy play about a man who creates...   \n",
       "\n",
       "                                                 category  \\\n",
       "28847   {\"id\":285,\"name\":\"Plays\",\"slug\":\"theater/plays...   \n",
       "105156  {\"id\":285,\"name\":\"Plays\",\"slug\":\"theater/plays...   \n",
       "\n",
       "        converted_pledged_amount country  created_at  \\\n",
       "28847                       3586      US  1489629222   \n",
       "105156                      3586      US  1489629222   \n",
       "\n",
       "                                                  creator currency  \\\n",
       "28847   {\"id\":1784617318,\"name\":\"The Amitycode\",\"is_re...      USD   \n",
       "105156  {\"id\":1784617318,\"name\":\"The Amitycode\",\"is_re...      USD   \n",
       "\n",
       "       currency_symbol  currency_trailing_code  ...           slug  \\\n",
       "28847                $                    True  ...  the-amitycode   \n",
       "105156               $                    True  ...  the-amitycode   \n",
       "\n",
       "                                               source_url  spotlight  \\\n",
       "28847   https://www.kickstarter.com/discover/categorie...       True   \n",
       "105156  https://www.kickstarter.com/discover/categorie...       True   \n",
       "\n",
       "       staff_pick       state  state_changed_at  static_usd_rate  \\\n",
       "28847       False  successful        1491670506              1.0   \n",
       "105156      False  successful        1491670506              1.0   \n",
       "\n",
       "                                                     urls  usd_pledged  \\\n",
       "28847   {\"web\":{\"project\":\"https://www.kickstarter.com...       3586.0   \n",
       "105156  {\"web\":{\"project\":\"https://www.kickstarter.com...       3586.0   \n",
       "\n",
       "             usd_type  \n",
       "28847   international  \n",
       "105156  international  \n",
       "\n",
       "[2 rows x 37 columns]"
      ],
      "text/html": "<div>\n<style scoped>\n    .dataframe tbody tr th:only-of-type {\n        vertical-align: middle;\n    }\n\n    .dataframe tbody tr th {\n        vertical-align: top;\n    }\n\n    .dataframe thead th {\n        text-align: right;\n    }\n</style>\n<table border=\"1\" class=\"dataframe\">\n  <thead>\n    <tr style=\"text-align: right;\">\n      <th></th>\n      <th>backers_count</th>\n      <th>blurb</th>\n      <th>category</th>\n      <th>converted_pledged_amount</th>\n      <th>country</th>\n      <th>created_at</th>\n      <th>creator</th>\n      <th>currency</th>\n      <th>currency_symbol</th>\n      <th>currency_trailing_code</th>\n      <th>...</th>\n      <th>slug</th>\n      <th>source_url</th>\n      <th>spotlight</th>\n      <th>staff_pick</th>\n      <th>state</th>\n      <th>state_changed_at</th>\n      <th>static_usd_rate</th>\n      <th>urls</th>\n      <th>usd_pledged</th>\n      <th>usd_type</th>\n    </tr>\n  </thead>\n  <tbody>\n    <tr>\n      <th>28847</th>\n      <td>51</td>\n      <td>A new dark comedy play about a man who creates...</td>\n      <td>{\"id\":285,\"name\":\"Plays\",\"slug\":\"theater/plays...</td>\n      <td>3586</td>\n      <td>US</td>\n      <td>1489629222</td>\n      <td>{\"id\":1784617318,\"name\":\"The Amitycode\",\"is_re...</td>\n      <td>USD</td>\n      <td>$</td>\n      <td>True</td>\n      <td>...</td>\n      <td>the-amitycode</td>\n      <td>https://www.kickstarter.com/discover/categorie...</td>\n      <td>True</td>\n      <td>False</td>\n      <td>successful</td>\n      <td>1491670506</td>\n      <td>1.0</td>\n      <td>{\"web\":{\"project\":\"https://www.kickstarter.com...</td>\n      <td>3586.0</td>\n      <td>international</td>\n    </tr>\n    <tr>\n      <th>105156</th>\n      <td>51</td>\n      <td>A new dark comedy play about a man who creates...</td>\n      <td>{\"id\":285,\"name\":\"Plays\",\"slug\":\"theater/plays...</td>\n      <td>3586</td>\n      <td>US</td>\n      <td>1489629222</td>\n      <td>{\"id\":1784617318,\"name\":\"The Amitycode\",\"is_re...</td>\n      <td>USD</td>\n      <td>$</td>\n      <td>True</td>\n      <td>...</td>\n      <td>the-amitycode</td>\n      <td>https://www.kickstarter.com/discover/categorie...</td>\n      <td>True</td>\n      <td>False</td>\n      <td>successful</td>\n      <td>1491670506</td>\n      <td>1.0</td>\n      <td>{\"web\":{\"project\":\"https://www.kickstarter.com...</td>\n      <td>3586.0</td>\n      <td>international</td>\n    </tr>\n  </tbody>\n</table>\n<p>2 rows × 37 columns</p>\n</div>"
     },
     "metadata": {},
     "execution_count": 22
    }
   ],
   "source": [
    "frame[frame['id']==378920150]"
   ]
  },
  {
   "source": [
    "It's not clear why some records are duplicated--therefore, duplicates were dropped (only first occcurence of record kept)"
   ],
   "cell_type": "markdown",
   "metadata": {}
  },
  {
   "cell_type": "code",
   "execution_count": 23,
   "metadata": {},
   "outputs": [],
   "source": [
    "# drop duplicate records\n",
    "frame = frame.drop_duplicates(subset = 'id', keep = 'first')"
   ]
  },
  {
   "cell_type": "code",
   "execution_count": 24,
   "metadata": {},
   "outputs": [
    {
     "output_type": "execute_result",
     "data": {
      "text/plain": [
       "A Midsummer Night's Dream                                     6\n",
       "Debut Album                                                   6\n",
       "Home                                                          5\n",
       "Reflections                                                   5\n",
       "Inheritance                                                   4\n",
       "                                                             ..\n",
       "Travels Off Track                                             1\n",
       "Jesse Nighswonger's First Solo Full Length Record!            1\n",
       "Wild Carpathia 4: White Carpathia                             1\n",
       "MNW Presents: On One Dance Studio | Be the Bridge Campaign    1\n",
       "Code Angel: Learn to code amazing games on a Raspberry Pi     1\n",
       "Name: name, Length: 168461, dtype: int64"
      ]
     },
     "metadata": {},
     "execution_count": 24
    }
   ],
   "source": [
    "frame['name'].value_counts()"
   ]
  },
  {
   "cell_type": "code",
   "execution_count": 25,
   "metadata": {},
   "outputs": [
    {
     "output_type": "execute_result",
     "data": {
      "text/plain": [
       "        backers_count                                              blurb  \\\n",
       "3173               15  Merely Players Shakespeare Co Presents a raw, ...   \n",
       "20191              17  A new take on a classic. Under the direction o...   \n",
       "41270               9  One of William Shakespeare's most beloved and ...   \n",
       "79101              10  This production is being put together by Wilso...   \n",
       "124262              6  A fresh reproduction of the famous Shakespeare...   \n",
       "198220             84  Join us as we lead you into our enchanted worl...   \n",
       "\n",
       "                                                 category  \\\n",
       "3173    {\"id\":17,\"name\":\"Theater\",\"slug\":\"theater\",\"po...   \n",
       "20191   {\"id\":285,\"name\":\"Plays\",\"slug\":\"theater/plays...   \n",
       "41270   {\"id\":296,\"name\":\"Fantasy\",\"slug\":\"film & vide...   \n",
       "79101   {\"id\":285,\"name\":\"Plays\",\"slug\":\"theater/plays...   \n",
       "124262  {\"id\":300,\"name\":\"Romance\",\"slug\":\"film & vide...   \n",
       "198220  {\"id\":283,\"name\":\"Immersive\",\"slug\":\"theater/i...   \n",
       "\n",
       "        converted_pledged_amount country  created_at  \\\n",
       "3173                        1255      US  1462916783   \n",
       "20191                        581      CA  1448477053   \n",
       "41270                        425      US  1432665213   \n",
       "79101                        504      US  1463500443   \n",
       "124262                       479      CA  1399277848   \n",
       "198220                      4755      GB  1407502256   \n",
       "\n",
       "                                                  creator currency  \\\n",
       "3173    {\"id\":1914145446,\"name\":\"Robbie Allen\",\"is_reg...      USD   \n",
       "20191   {\"id\":1073132374,\"name\":\"NonExistent Theatre\",...      CAD   \n",
       "41270   {\"id\":1460128612,\"name\":\"Ruth Tjornhom\",\"is_re...      USD   \n",
       "79101   {\"id\":2114902259,\"name\":\"Zachery Rayburn\",\"is_...      USD   \n",
       "124262  {\"id\":467268322,\"name\":\"Julie O'Donohue\",\"is_r...      CAD   \n",
       "198220  {\"id\":1610178098,\"name\":\"AMSND2014\",\"is_regist...      GBP   \n",
       "\n",
       "       currency_symbol  currency_trailing_code  ...  \\\n",
       "3173                 $                    True  ...   \n",
       "20191                $                    True  ...   \n",
       "41270                $                    True  ...   \n",
       "79101                $                    True  ...   \n",
       "124262               $                    True  ...   \n",
       "198220               £                   False  ...   \n",
       "\n",
       "                              slug  \\\n",
       "3173    a-midsummer-nights-dream-5   \n",
       "20191   a-midsummer-nights-dream-8   \n",
       "41270   a-midsummer-nights-dream-4   \n",
       "79101   a-midsummer-nights-dream-7   \n",
       "124262  a-midsummer-nights-dream-1   \n",
       "198220  a-midsummer-nights-dream-3   \n",
       "\n",
       "                                               source_url  spotlight  \\\n",
       "3173    https://www.kickstarter.com/discover/categorie...       True   \n",
       "20191   https://www.kickstarter.com/discover/categorie...       True   \n",
       "41270   https://www.kickstarter.com/discover/categorie...      False   \n",
       "79101   https://www.kickstarter.com/discover/categorie...      False   \n",
       "124262  https://www.kickstarter.com/discover/categorie...       True   \n",
       "198220  https://www.kickstarter.com/discover/categorie...       True   \n",
       "\n",
       "       staff_pick       state  state_changed_at  static_usd_rate  \\\n",
       "3173        False  successful        1465881008         1.000000   \n",
       "20191       False  successful        1472097540         0.771877   \n",
       "41270       False      failed        1440052620         1.000000   \n",
       "79101       False      failed        1467604801         1.000000   \n",
       "124262      False  successful        1401444913         0.922680   \n",
       "198220      False  successful        1409482816         1.677520   \n",
       "\n",
       "                                                     urls  usd_pledged  \\\n",
       "3173    {\"web\":{\"project\":\"https://www.kickstarter.com...  1255.000000   \n",
       "20191   {\"web\":{\"project\":\"https://www.kickstarter.com...   580.451143   \n",
       "41270   {\"web\":{\"project\":\"https://www.kickstarter.com...   425.000000   \n",
       "79101   {\"web\":{\"project\":\"https://www.kickstarter.com...   504.000000   \n",
       "124262  {\"web\":{\"project\":\"https://www.kickstarter.com...   479.793761   \n",
       "198220  {\"web\":{\"project\":\"https://www.kickstarter.com...  4806.095430   \n",
       "\n",
       "             usd_type  \n",
       "3173    international  \n",
       "20191   international  \n",
       "41270        domestic  \n",
       "79101   international  \n",
       "124262  international  \n",
       "198220       domestic  \n",
       "\n",
       "[6 rows x 37 columns]"
      ],
      "text/html": "<div>\n<style scoped>\n    .dataframe tbody tr th:only-of-type {\n        vertical-align: middle;\n    }\n\n    .dataframe tbody tr th {\n        vertical-align: top;\n    }\n\n    .dataframe thead th {\n        text-align: right;\n    }\n</style>\n<table border=\"1\" class=\"dataframe\">\n  <thead>\n    <tr style=\"text-align: right;\">\n      <th></th>\n      <th>backers_count</th>\n      <th>blurb</th>\n      <th>category</th>\n      <th>converted_pledged_amount</th>\n      <th>country</th>\n      <th>created_at</th>\n      <th>creator</th>\n      <th>currency</th>\n      <th>currency_symbol</th>\n      <th>currency_trailing_code</th>\n      <th>...</th>\n      <th>slug</th>\n      <th>source_url</th>\n      <th>spotlight</th>\n      <th>staff_pick</th>\n      <th>state</th>\n      <th>state_changed_at</th>\n      <th>static_usd_rate</th>\n      <th>urls</th>\n      <th>usd_pledged</th>\n      <th>usd_type</th>\n    </tr>\n  </thead>\n  <tbody>\n    <tr>\n      <th>3173</th>\n      <td>15</td>\n      <td>Merely Players Shakespeare Co Presents a raw, ...</td>\n      <td>{\"id\":17,\"name\":\"Theater\",\"slug\":\"theater\",\"po...</td>\n      <td>1255</td>\n      <td>US</td>\n      <td>1462916783</td>\n      <td>{\"id\":1914145446,\"name\":\"Robbie Allen\",\"is_reg...</td>\n      <td>USD</td>\n      <td>$</td>\n      <td>True</td>\n      <td>...</td>\n      <td>a-midsummer-nights-dream-5</td>\n      <td>https://www.kickstarter.com/discover/categorie...</td>\n      <td>True</td>\n      <td>False</td>\n      <td>successful</td>\n      <td>1465881008</td>\n      <td>1.000000</td>\n      <td>{\"web\":{\"project\":\"https://www.kickstarter.com...</td>\n      <td>1255.000000</td>\n      <td>international</td>\n    </tr>\n    <tr>\n      <th>20191</th>\n      <td>17</td>\n      <td>A new take on a classic. Under the direction o...</td>\n      <td>{\"id\":285,\"name\":\"Plays\",\"slug\":\"theater/plays...</td>\n      <td>581</td>\n      <td>CA</td>\n      <td>1448477053</td>\n      <td>{\"id\":1073132374,\"name\":\"NonExistent Theatre\",...</td>\n      <td>CAD</td>\n      <td>$</td>\n      <td>True</td>\n      <td>...</td>\n      <td>a-midsummer-nights-dream-8</td>\n      <td>https://www.kickstarter.com/discover/categorie...</td>\n      <td>True</td>\n      <td>False</td>\n      <td>successful</td>\n      <td>1472097540</td>\n      <td>0.771877</td>\n      <td>{\"web\":{\"project\":\"https://www.kickstarter.com...</td>\n      <td>580.451143</td>\n      <td>international</td>\n    </tr>\n    <tr>\n      <th>41270</th>\n      <td>9</td>\n      <td>One of William Shakespeare's most beloved and ...</td>\n      <td>{\"id\":296,\"name\":\"Fantasy\",\"slug\":\"film &amp; vide...</td>\n      <td>425</td>\n      <td>US</td>\n      <td>1432665213</td>\n      <td>{\"id\":1460128612,\"name\":\"Ruth Tjornhom\",\"is_re...</td>\n      <td>USD</td>\n      <td>$</td>\n      <td>True</td>\n      <td>...</td>\n      <td>a-midsummer-nights-dream-4</td>\n      <td>https://www.kickstarter.com/discover/categorie...</td>\n      <td>False</td>\n      <td>False</td>\n      <td>failed</td>\n      <td>1440052620</td>\n      <td>1.000000</td>\n      <td>{\"web\":{\"project\":\"https://www.kickstarter.com...</td>\n      <td>425.000000</td>\n      <td>domestic</td>\n    </tr>\n    <tr>\n      <th>79101</th>\n      <td>10</td>\n      <td>This production is being put together by Wilso...</td>\n      <td>{\"id\":285,\"name\":\"Plays\",\"slug\":\"theater/plays...</td>\n      <td>504</td>\n      <td>US</td>\n      <td>1463500443</td>\n      <td>{\"id\":2114902259,\"name\":\"Zachery Rayburn\",\"is_...</td>\n      <td>USD</td>\n      <td>$</td>\n      <td>True</td>\n      <td>...</td>\n      <td>a-midsummer-nights-dream-7</td>\n      <td>https://www.kickstarter.com/discover/categorie...</td>\n      <td>False</td>\n      <td>False</td>\n      <td>failed</td>\n      <td>1467604801</td>\n      <td>1.000000</td>\n      <td>{\"web\":{\"project\":\"https://www.kickstarter.com...</td>\n      <td>504.000000</td>\n      <td>international</td>\n    </tr>\n    <tr>\n      <th>124262</th>\n      <td>6</td>\n      <td>A fresh reproduction of the famous Shakespeare...</td>\n      <td>{\"id\":300,\"name\":\"Romance\",\"slug\":\"film &amp; vide...</td>\n      <td>479</td>\n      <td>CA</td>\n      <td>1399277848</td>\n      <td>{\"id\":467268322,\"name\":\"Julie O'Donohue\",\"is_r...</td>\n      <td>CAD</td>\n      <td>$</td>\n      <td>True</td>\n      <td>...</td>\n      <td>a-midsummer-nights-dream-1</td>\n      <td>https://www.kickstarter.com/discover/categorie...</td>\n      <td>True</td>\n      <td>False</td>\n      <td>successful</td>\n      <td>1401444913</td>\n      <td>0.922680</td>\n      <td>{\"web\":{\"project\":\"https://www.kickstarter.com...</td>\n      <td>479.793761</td>\n      <td>international</td>\n    </tr>\n    <tr>\n      <th>198220</th>\n      <td>84</td>\n      <td>Join us as we lead you into our enchanted worl...</td>\n      <td>{\"id\":283,\"name\":\"Immersive\",\"slug\":\"theater/i...</td>\n      <td>4755</td>\n      <td>GB</td>\n      <td>1407502256</td>\n      <td>{\"id\":1610178098,\"name\":\"AMSND2014\",\"is_regist...</td>\n      <td>GBP</td>\n      <td>£</td>\n      <td>False</td>\n      <td>...</td>\n      <td>a-midsummer-nights-dream-3</td>\n      <td>https://www.kickstarter.com/discover/categorie...</td>\n      <td>True</td>\n      <td>False</td>\n      <td>successful</td>\n      <td>1409482816</td>\n      <td>1.677520</td>\n      <td>{\"web\":{\"project\":\"https://www.kickstarter.com...</td>\n      <td>4806.095430</td>\n      <td>domestic</td>\n    </tr>\n  </tbody>\n</table>\n<p>6 rows × 37 columns</p>\n</div>"
     },
     "metadata": {},
     "execution_count": 25
    }
   ],
   "source": [
    "frame[frame['name']==\"A Midsummer Night's Dream\"]"
   ]
  },
  {
   "source": [
    "There are projects with the same name, but they seem to be different projects"
   ],
   "cell_type": "markdown",
   "metadata": {}
  },
  {
   "source": [
    "## Exploring the features"
   ],
   "cell_type": "markdown",
   "metadata": {}
  },
  {
   "source": [
    "Explanation of columns here: https://github.com/L-Lewis/Kickstarter-success-machine-learning/blob/master/Kickstarter-project.ipynb"
   ],
   "cell_type": "markdown",
   "metadata": {}
  },
  {
   "cell_type": "code",
   "execution_count": 26,
   "metadata": {},
   "outputs": [
    {
     "output_type": "execute_result",
     "data": {
      "text/plain": [
       "{\"id\":31,\"name\":\"Narrative Film\",\"slug\":\"film & video/narrative film\",\"position\":13,\"parent_id\":11,\"color\":16734574,\"urls\":{\"web\":{\"discover\":\"http://www.kickstarter.com/discover/categories/film%20&%20video/narrative%20film\"}}}    2387\n",
       "{\"id\":53,\"name\":\"Public Art\",\"slug\":\"art/public art\",\"position\":9,\"parent_id\":1,\"color\":16760235,\"urls\":{\"web\":{\"discover\":\"http://www.kickstarter.com/discover/categories/art/public%20art\"}}}                                        2385\n",
       "{\"id\":39,\"name\":\"Hip-Hop\",\"slug\":\"music/hip-hop\",\"position\":8,\"parent_id\":14,\"color\":10878931,\"urls\":{\"web\":{\"discover\":\"http://www.kickstarter.com/discover/categories/music/hip-hop\"}}}                                              2385\n",
       "{\"id\":272,\"name\":\"Mobile Games\",\"slug\":\"games/mobile games\",\"position\":3,\"parent_id\":12,\"color\":51627,\"urls\":{\"web\":{\"discover\":\"http://www.kickstarter.com/discover/categories/games/mobile%20games\"}}}                               2381\n",
       "{\"id\":40,\"name\":\"Indie Rock\",\"slug\":\"music/indie rock\",\"position\":9,\"parent_id\":14,\"color\":10878931,\"urls\":{\"web\":{\"discover\":\"http://www.kickstarter.com/discover/categories/music/indie%20rock\"}}}                                   2381\n",
       "                                                                                                                                                                                                                                       ... \n",
       "{\"id\":349,\"name\":\"Letterpress\",\"slug\":\"publishing/letterpress\",\"position\":7,\"parent_id\":18,\"color\":14867664,\"urls\":{\"web\":{\"discover\":\"http://www.kickstarter.com/discover/categories/publishing/letterpress\"}}}                         56\n",
       "{\"id\":12,\"name\":\"Games\",\"slug\":\"games\",\"position\":9,\"color\":51627,\"urls\":{\"web\":{\"discover\":\"http://www.kickstarter.com/discover/categories/games\"}}}                                                                                    54\n",
       "{\"id\":317,\"name\":\"Chiptune\",\"slug\":\"music/chiptune\",\"position\":2,\"parent_id\":14,\"color\":10878931,\"urls\":{\"web\":{\"discover\":\"http://www.kickstarter.com/discover/categories/music/chiptune\"}}}                                            38\n",
       "{\"id\":386,\"name\":\"Comedy\",\"slug\":\"music/comedy\",\"position\":4,\"parent_id\":14,\"color\":10878931,\"urls\":{\"web\":{\"discover\":\"http://www.kickstarter.com/discover/categories/music/comedy\"}}}                                                  37\n",
       "{\"id\":354,\"name\":\"Taxidermy\",\"slug\":\"crafts/taxidermy\",\"position\":12,\"parent_id\":26,\"color\":16744876,\"urls\":{\"web\":{\"discover\":\"http://www.kickstarter.com/discover/categories/crafts/taxidermy\"}}}                                      10\n",
       "Name: category, Length: 169, dtype: int64"
      ]
     },
     "metadata": {},
     "execution_count": 26
    }
   ],
   "source": [
    "frame['category'].value_counts()"
   ]
  },
  {
   "cell_type": "code",
   "execution_count": 27,
   "metadata": {},
   "outputs": [
    {
     "output_type": "execute_result",
     "data": {
      "text/plain": [
       "   backers_count                                              blurb  \\\n",
       "1             47  A colorful Dia de los Muertos themed oracle de...   \n",
       "2            271  Electra's long awaited, eclectic Debut Pop/Roc...   \n",
       "3              3  The Mist of Tribunal is a turn-based card game...   \n",
       "\n",
       "                                            category  \\\n",
       "1  {\"id\":273,\"name\":\"Playing Cards\",\"slug\":\"games...   \n",
       "2  {\"id\":43,\"name\":\"Rock\",\"slug\":\"music/rock\",\"po...   \n",
       "3  {\"id\":273,\"name\":\"Playing Cards\",\"slug\":\"games...   \n",
       "\n",
       "   converted_pledged_amount country  created_at  \\\n",
       "1                      1950      US  1501684093   \n",
       "2                     22404      US  1348987533   \n",
       "3                       165      GB  1483780271   \n",
       "\n",
       "                                             creator currency currency_symbol  \\\n",
       "1  {\"id\":723886115,\"name\":\"Lisa Vollrath\",\"slug\":...      USD               $   \n",
       "2  {\"id\":323849677,\"name\":\"Electra\",\"is_registere...      USD               $   \n",
       "3  {\"id\":196281496,\"name\":\"Artur Ordijanc (delete...      GBP               £   \n",
       "\n",
       "   currency_trailing_code current_currency    deadline  disable_communication  \\\n",
       "1                    True              USD  1504976459                  False   \n",
       "2                    True              USD  1371013395                  False   \n",
       "3                   False              USD  1489425776                  False   \n",
       "\n",
       "  friends   fx_rate     goal         id is_backing  is_starrable is_starred  \\\n",
       "1     NaN  1.000000   1000.0  928751314        NaN         False        NaN   \n",
       "2     NaN  1.000000  15000.0  928014092        NaN         False        NaN   \n",
       "3     NaN  1.308394  10000.0  596091328        NaN         False        NaN   \n",
       "\n",
       "   launched_at                                           location  \\\n",
       "1   1502384459  {\"id\":2400549,\"name\":\"Euless\",\"slug\":\"euless-t...   \n",
       "2   1368421395  {\"id\":2423474,\"name\":\"Hollywood\",\"slug\":\"holly...   \n",
       "3   1484245376  {\"id\":475457,\"name\":\"Kaunas\",\"slug\":\"kaunas-ka...   \n",
       "\n",
       "                                                name permissions  \\\n",
       "1                            The Ofrenda Oracle Deck         NaN   \n",
       "2  Record Electra's Debut Album (Pop, Rock, Class...         NaN   \n",
       "3                 The Mist of Tribunal - A Card Game         NaN   \n",
       "\n",
       "                                               photo  pledged  \\\n",
       "1  {\"key\":\"assets/017/766/989/dd9f18c773a8546d996...   1950.0   \n",
       "2  {\"key\":\"assets/011/433/681/489fd66f7861fefd8c8...  22404.0   \n",
       "3  {\"key\":\"assets/015/091/198/216fbf1bdc3739e7971...    136.0   \n",
       "\n",
       "                                             profile  \\\n",
       "1  {\"id\":3094785,\"project_id\":3094785,\"state\":\"ac...   \n",
       "2  {\"id\":359847,\"project_id\":359847,\"state\":\"inac...   \n",
       "3  {\"id\":2825329,\"project_id\":2825329,\"state\":\"in...   \n",
       "\n",
       "                                             slug  \\\n",
       "1                         the-ofrenda-oracle-deck   \n",
       "2  record-electras-debut-album-pop-rock-classical   \n",
       "3                the-mist-of-tribunal-a-card-game   \n",
       "\n",
       "                                          source_url  spotlight  staff_pick  \\\n",
       "1  https://www.kickstarter.com/discover/categorie...       True       False   \n",
       "2  https://www.kickstarter.com/discover/categorie...       True       False   \n",
       "3  https://www.kickstarter.com/discover/categorie...      False       False   \n",
       "\n",
       "        state  state_changed_at  static_usd_rate  \\\n",
       "1  successful        1504976459         1.000000   \n",
       "2  successful        1371013395         1.000000   \n",
       "3      failed        1489425776         1.216066   \n",
       "\n",
       "                                                urls   usd_pledged  \\\n",
       "1  {\"web\":{\"project\":\"https://www.kickstarter.com...   1950.000000   \n",
       "2  {\"web\":{\"project\":\"https://www.kickstarter.com...  22404.000000   \n",
       "3  {\"web\":{\"project\":\"https://www.kickstarter.com...    165.384934   \n",
       "\n",
       "        usd_type  \n",
       "1       domestic  \n",
       "2  international  \n",
       "3       domestic  "
      ],
      "text/html": "<div>\n<style scoped>\n    .dataframe tbody tr th:only-of-type {\n        vertical-align: middle;\n    }\n\n    .dataframe tbody tr th {\n        vertical-align: top;\n    }\n\n    .dataframe thead th {\n        text-align: right;\n    }\n</style>\n<table border=\"1\" class=\"dataframe\">\n  <thead>\n    <tr style=\"text-align: right;\">\n      <th></th>\n      <th>backers_count</th>\n      <th>blurb</th>\n      <th>category</th>\n      <th>converted_pledged_amount</th>\n      <th>country</th>\n      <th>created_at</th>\n      <th>creator</th>\n      <th>currency</th>\n      <th>currency_symbol</th>\n      <th>currency_trailing_code</th>\n      <th>current_currency</th>\n      <th>deadline</th>\n      <th>disable_communication</th>\n      <th>friends</th>\n      <th>fx_rate</th>\n      <th>goal</th>\n      <th>id</th>\n      <th>is_backing</th>\n      <th>is_starrable</th>\n      <th>is_starred</th>\n      <th>launched_at</th>\n      <th>location</th>\n      <th>name</th>\n      <th>permissions</th>\n      <th>photo</th>\n      <th>pledged</th>\n      <th>profile</th>\n      <th>slug</th>\n      <th>source_url</th>\n      <th>spotlight</th>\n      <th>staff_pick</th>\n      <th>state</th>\n      <th>state_changed_at</th>\n      <th>static_usd_rate</th>\n      <th>urls</th>\n      <th>usd_pledged</th>\n      <th>usd_type</th>\n    </tr>\n  </thead>\n  <tbody>\n    <tr>\n      <th>1</th>\n      <td>47</td>\n      <td>A colorful Dia de los Muertos themed oracle de...</td>\n      <td>{\"id\":273,\"name\":\"Playing Cards\",\"slug\":\"games...</td>\n      <td>1950</td>\n      <td>US</td>\n      <td>1501684093</td>\n      <td>{\"id\":723886115,\"name\":\"Lisa Vollrath\",\"slug\":...</td>\n      <td>USD</td>\n      <td>$</td>\n      <td>True</td>\n      <td>USD</td>\n      <td>1504976459</td>\n      <td>False</td>\n      <td>NaN</td>\n      <td>1.000000</td>\n      <td>1000.0</td>\n      <td>928751314</td>\n      <td>NaN</td>\n      <td>False</td>\n      <td>NaN</td>\n      <td>1502384459</td>\n      <td>{\"id\":2400549,\"name\":\"Euless\",\"slug\":\"euless-t...</td>\n      <td>The Ofrenda Oracle Deck</td>\n      <td>NaN</td>\n      <td>{\"key\":\"assets/017/766/989/dd9f18c773a8546d996...</td>\n      <td>1950.0</td>\n      <td>{\"id\":3094785,\"project_id\":3094785,\"state\":\"ac...</td>\n      <td>the-ofrenda-oracle-deck</td>\n      <td>https://www.kickstarter.com/discover/categorie...</td>\n      <td>True</td>\n      <td>False</td>\n      <td>successful</td>\n      <td>1504976459</td>\n      <td>1.000000</td>\n      <td>{\"web\":{\"project\":\"https://www.kickstarter.com...</td>\n      <td>1950.000000</td>\n      <td>domestic</td>\n    </tr>\n    <tr>\n      <th>2</th>\n      <td>271</td>\n      <td>Electra's long awaited, eclectic Debut Pop/Roc...</td>\n      <td>{\"id\":43,\"name\":\"Rock\",\"slug\":\"music/rock\",\"po...</td>\n      <td>22404</td>\n      <td>US</td>\n      <td>1348987533</td>\n      <td>{\"id\":323849677,\"name\":\"Electra\",\"is_registere...</td>\n      <td>USD</td>\n      <td>$</td>\n      <td>True</td>\n      <td>USD</td>\n      <td>1371013395</td>\n      <td>False</td>\n      <td>NaN</td>\n      <td>1.000000</td>\n      <td>15000.0</td>\n      <td>928014092</td>\n      <td>NaN</td>\n      <td>False</td>\n      <td>NaN</td>\n      <td>1368421395</td>\n      <td>{\"id\":2423474,\"name\":\"Hollywood\",\"slug\":\"holly...</td>\n      <td>Record Electra's Debut Album (Pop, Rock, Class...</td>\n      <td>NaN</td>\n      <td>{\"key\":\"assets/011/433/681/489fd66f7861fefd8c8...</td>\n      <td>22404.0</td>\n      <td>{\"id\":359847,\"project_id\":359847,\"state\":\"inac...</td>\n      <td>record-electras-debut-album-pop-rock-classical</td>\n      <td>https://www.kickstarter.com/discover/categorie...</td>\n      <td>True</td>\n      <td>False</td>\n      <td>successful</td>\n      <td>1371013395</td>\n      <td>1.000000</td>\n      <td>{\"web\":{\"project\":\"https://www.kickstarter.com...</td>\n      <td>22404.000000</td>\n      <td>international</td>\n    </tr>\n    <tr>\n      <th>3</th>\n      <td>3</td>\n      <td>The Mist of Tribunal is a turn-based card game...</td>\n      <td>{\"id\":273,\"name\":\"Playing Cards\",\"slug\":\"games...</td>\n      <td>165</td>\n      <td>GB</td>\n      <td>1483780271</td>\n      <td>{\"id\":196281496,\"name\":\"Artur Ordijanc (delete...</td>\n      <td>GBP</td>\n      <td>£</td>\n      <td>False</td>\n      <td>USD</td>\n      <td>1489425776</td>\n      <td>False</td>\n      <td>NaN</td>\n      <td>1.308394</td>\n      <td>10000.0</td>\n      <td>596091328</td>\n      <td>NaN</td>\n      <td>False</td>\n      <td>NaN</td>\n      <td>1484245376</td>\n      <td>{\"id\":475457,\"name\":\"Kaunas\",\"slug\":\"kaunas-ka...</td>\n      <td>The Mist of Tribunal - A Card Game</td>\n      <td>NaN</td>\n      <td>{\"key\":\"assets/015/091/198/216fbf1bdc3739e7971...</td>\n      <td>136.0</td>\n      <td>{\"id\":2825329,\"project_id\":2825329,\"state\":\"in...</td>\n      <td>the-mist-of-tribunal-a-card-game</td>\n      <td>https://www.kickstarter.com/discover/categorie...</td>\n      <td>False</td>\n      <td>False</td>\n      <td>failed</td>\n      <td>1489425776</td>\n      <td>1.216066</td>\n      <td>{\"web\":{\"project\":\"https://www.kickstarter.com...</td>\n      <td>165.384934</td>\n      <td>domestic</td>\n    </tr>\n  </tbody>\n</table>\n</div>"
     },
     "metadata": {},
     "execution_count": 27
    }
   ],
   "source": [
    "pd.set_option('display.max_columns', None)\n",
    "frame.head(3)"
   ]
  },
  {
   "source": [
    "- converted_pledged_amount - amount of money pledged, converted to the currency in the 'current_currency' column\n",
    "- currency - original currency the project goal was denominated in\n",
    "- currency_symbol - symbol of the original currency the project goal was denominated in\n",
    "- currency_trailing_code - code of the original currency the project goal was denominated in\n",
    "- current_currency - currency the project goal was converted to\n",
    "- fx_rate - foreign exchange rate between the original currency and the current_currency\n",
    "- goal - funding goal\n",
    "- pledged - amount pledged in the current_currency\n",
    "- static_usd_rate - conversion rate between the original currency and USD\n",
    "- usd_pledged - amount pledged in USD\n"
   ],
   "cell_type": "markdown",
   "metadata": {}
  },
  {
   "cell_type": "code",
   "execution_count": null,
   "metadata": {},
   "outputs": [],
   "source": []
  },
  {
   "cell_type": "code",
   "execution_count": 28,
   "metadata": {},
   "outputs": [
    {
     "output_type": "execute_result",
     "data": {
      "text/plain": [
       "    converted_pledged_amount currency current_currency    pledged  \\\n",
       "1                       1950      USD              USD    1950.00   \n",
       "2                      22404      USD              USD   22404.00   \n",
       "3                        165      GBP              USD     136.00   \n",
       "4                       2820      USD              USD    2820.00   \n",
       "5                       3725      USD              USD    3725.00   \n",
       "6                       3890      USD              USD    3890.00   \n",
       "7                        660      USD              USD     660.00   \n",
       "8                        540      GBP              USD     375.00   \n",
       "9                       2552      GBP              USD    1954.00   \n",
       "10                         0      USD              USD       0.00   \n",
       "11                      1405      USD              USD    1405.00   \n",
       "13                      5323      USD              USD    5323.00   \n",
       "14                      7035      USD              USD    7035.00   \n",
       "15                       110      USD              USD     110.00   \n",
       "16                      4579      EUR              USD    4230.00   \n",
       "17                     15957      AUD              USD   20169.00   \n",
       "18                      5667      USD              USD    5667.00   \n",
       "19                       760      USD              USD     760.00   \n",
       "20                      2690      USD              USD    2690.14   \n",
       "21                    117817      USD              USD  117817.00   \n",
       "22                       705      NZD              USD    1015.00   \n",
       "23                     15670      USD              USD   15670.00   \n",
       "24                         5      EUR              USD       5.00   \n",
       "25                      2808      GBP              USD    2199.00   \n",
       "26                       617      USD              USD     617.00   \n",
       "28                        14      GBP              USD      10.00   \n",
       "29                       437      EUR              USD     376.00   \n",
       "30                      5466      USD              USD    5466.00   \n",
       "31                        71      USD              USD      71.00   \n",
       "32                     14349      EUR              USD   11784.00   \n",
       "33                     15420      USD              USD   15420.00   \n",
       "34                      3263      GBP              USD    2055.00   \n",
       "35                      1335      AUD              USD    1838.32   \n",
       "36                      3801      USD              USD    3801.00   \n",
       "37                     11893      USD              USD   11893.00   \n",
       "38                     29240      EUR              USD   27413.00   \n",
       "39                     11579      GBP              USD    7898.00   \n",
       "40                       322      USD              USD     322.00   \n",
       "41                        38      GBP              USD      25.00   \n",
       "42                      3120      USD              USD    3120.00   \n",
       "44                         0      USD              USD       0.00   \n",
       "45                        26      EUR              USD      22.00   \n",
       "46                        45      USD              USD      45.00   \n",
       "47                      1479      USD              USD    1479.00   \n",
       "48                      7523      USD              USD    7523.00   \n",
       "49                       786      GBP              USD     510.00   \n",
       "50                       236      GBP              USD     182.00   \n",
       "51                      3035      USD              USD    3035.00   \n",
       "52                      1511      GBP              USD    1169.00   \n",
       "53                      3055      USD              USD    3055.00   \n",
       "\n",
       "      usd_pledged      goal   fx_rate  static_usd_rate       state  \n",
       "1     1950.000000    1000.0  1.000000         1.000000  successful  \n",
       "2    22404.000000   15000.0  1.000000         1.000000  successful  \n",
       "3      165.384934   10000.0  1.308394         1.216066      failed  \n",
       "4     2820.000000    2800.0  1.000000         1.000000  successful  \n",
       "5     3725.000000    3500.0  1.000000         1.000000  successful  \n",
       "6     3890.000000    2500.0  1.000000         1.000000  successful  \n",
       "7      660.000000     400.0  1.000000         1.000000  successful  \n",
       "8      529.786729     375.0  1.308394         1.412765  successful  \n",
       "9     2516.160602     380.0  1.308394         1.287697  successful  \n",
       "10       0.000000  150000.0  1.000000         1.000000      failed  \n",
       "11    1405.000000     800.0  1.000000         1.000000  successful  \n",
       "13    5323.000000    4500.0  1.000000         1.000000  successful  \n",
       "14    7035.000000    7000.0  1.000000         1.000000  successful  \n",
       "15     110.000000     101.0  1.000000         1.000000  successful  \n",
       "16    4701.023782    4200.0  1.128433         1.111353  successful  \n",
       "17   15328.270782   15000.0  0.705792         0.759992  successful  \n",
       "18    5667.000000    5000.0  1.000000         1.000000  successful  \n",
       "19     760.000000     650.0  1.000000         1.000000  successful  \n",
       "20    2690.140000    2500.0  1.000000         1.000000  successful  \n",
       "21  117817.000000   50000.0  1.000000         1.000000  successful  \n",
       "22     702.613237    1000.0  0.684141         0.692230  successful  \n",
       "23   15670.000000   15000.0  1.000000         1.000000  successful  \n",
       "24       5.473783   50000.0  1.128433         1.094757      failed  \n",
       "25    2861.258251    2000.0  1.308394         1.301163  successful  \n",
       "26     617.000000     500.0  1.000000         1.000000  successful  \n",
       "28      14.118491    5000.0  1.308394         1.411849      failed  \n",
       "29     435.427090     350.0  1.128433         1.158051  successful  \n",
       "30    5466.000000    5000.0  1.000000         1.000000  successful  \n",
       "31      71.000000   30000.0  1.000000         1.000000      failed  \n",
       "32   14580.639568   11000.0  1.128433         1.237325  successful  \n",
       "33   15420.000000    8999.0  1.000000         1.000000  successful  \n",
       "34    3196.518202    2000.0  1.308394         1.555483  successful  \n",
       "35    1325.061424    1800.0  0.705792         0.720800  successful  \n",
       "36    3801.000000     600.0  1.000000         1.000000  successful  \n",
       "37   11893.000000    2500.0  1.000000         1.000000  successful  \n",
       "38   30340.896453   80000.0  1.128433         1.106807      failed  \n",
       "39   11163.345566   10000.0  1.308394         1.413440      failed  \n",
       "40     322.000000   32223.0  1.000000         1.000000      failed  \n",
       "41      38.814270   10000.0  1.308394         1.552571      failed  \n",
       "42    3120.000000    2550.0  1.000000         1.000000  successful  \n",
       "44       0.000000    2300.0  1.000000         1.000000      failed  \n",
       "45      25.155047   30000.0  1.128433         1.143411      failed  \n",
       "46      45.000000  200000.0  1.000000         1.000000      failed  \n",
       "47    1479.000000   10000.0  1.000000         1.000000      failed  \n",
       "48    7523.000000    7500.0  1.000000         1.000000  successful  \n",
       "49     792.348709     500.0  1.308394         1.553625  successful  \n",
       "50     231.906218    2200.0  1.308394         1.274210      failed  \n",
       "51    3035.000000    3000.0  1.000000         1.000000  successful  \n",
       "52    1511.243840     600.0  1.308394         1.292766  successful  \n",
       "53    3055.000000    3000.0  1.000000         1.000000  successful  "
      ],
      "text/html": "<div>\n<style scoped>\n    .dataframe tbody tr th:only-of-type {\n        vertical-align: middle;\n    }\n\n    .dataframe tbody tr th {\n        vertical-align: top;\n    }\n\n    .dataframe thead th {\n        text-align: right;\n    }\n</style>\n<table border=\"1\" class=\"dataframe\">\n  <thead>\n    <tr style=\"text-align: right;\">\n      <th></th>\n      <th>converted_pledged_amount</th>\n      <th>currency</th>\n      <th>current_currency</th>\n      <th>pledged</th>\n      <th>usd_pledged</th>\n      <th>goal</th>\n      <th>fx_rate</th>\n      <th>static_usd_rate</th>\n      <th>state</th>\n    </tr>\n  </thead>\n  <tbody>\n    <tr>\n      <th>1</th>\n      <td>1950</td>\n      <td>USD</td>\n      <td>USD</td>\n      <td>1950.00</td>\n      <td>1950.000000</td>\n      <td>1000.0</td>\n      <td>1.000000</td>\n      <td>1.000000</td>\n      <td>successful</td>\n    </tr>\n    <tr>\n      <th>2</th>\n      <td>22404</td>\n      <td>USD</td>\n      <td>USD</td>\n      <td>22404.00</td>\n      <td>22404.000000</td>\n      <td>15000.0</td>\n      <td>1.000000</td>\n      <td>1.000000</td>\n      <td>successful</td>\n    </tr>\n    <tr>\n      <th>3</th>\n      <td>165</td>\n      <td>GBP</td>\n      <td>USD</td>\n      <td>136.00</td>\n      <td>165.384934</td>\n      <td>10000.0</td>\n      <td>1.308394</td>\n      <td>1.216066</td>\n      <td>failed</td>\n    </tr>\n    <tr>\n      <th>4</th>\n      <td>2820</td>\n      <td>USD</td>\n      <td>USD</td>\n      <td>2820.00</td>\n      <td>2820.000000</td>\n      <td>2800.0</td>\n      <td>1.000000</td>\n      <td>1.000000</td>\n      <td>successful</td>\n    </tr>\n    <tr>\n      <th>5</th>\n      <td>3725</td>\n      <td>USD</td>\n      <td>USD</td>\n      <td>3725.00</td>\n      <td>3725.000000</td>\n      <td>3500.0</td>\n      <td>1.000000</td>\n      <td>1.000000</td>\n      <td>successful</td>\n    </tr>\n    <tr>\n      <th>6</th>\n      <td>3890</td>\n      <td>USD</td>\n      <td>USD</td>\n      <td>3890.00</td>\n      <td>3890.000000</td>\n      <td>2500.0</td>\n      <td>1.000000</td>\n      <td>1.000000</td>\n      <td>successful</td>\n    </tr>\n    <tr>\n      <th>7</th>\n      <td>660</td>\n      <td>USD</td>\n      <td>USD</td>\n      <td>660.00</td>\n      <td>660.000000</td>\n      <td>400.0</td>\n      <td>1.000000</td>\n      <td>1.000000</td>\n      <td>successful</td>\n    </tr>\n    <tr>\n      <th>8</th>\n      <td>540</td>\n      <td>GBP</td>\n      <td>USD</td>\n      <td>375.00</td>\n      <td>529.786729</td>\n      <td>375.0</td>\n      <td>1.308394</td>\n      <td>1.412765</td>\n      <td>successful</td>\n    </tr>\n    <tr>\n      <th>9</th>\n      <td>2552</td>\n      <td>GBP</td>\n      <td>USD</td>\n      <td>1954.00</td>\n      <td>2516.160602</td>\n      <td>380.0</td>\n      <td>1.308394</td>\n      <td>1.287697</td>\n      <td>successful</td>\n    </tr>\n    <tr>\n      <th>10</th>\n      <td>0</td>\n      <td>USD</td>\n      <td>USD</td>\n      <td>0.00</td>\n      <td>0.000000</td>\n      <td>150000.0</td>\n      <td>1.000000</td>\n      <td>1.000000</td>\n      <td>failed</td>\n    </tr>\n    <tr>\n      <th>11</th>\n      <td>1405</td>\n      <td>USD</td>\n      <td>USD</td>\n      <td>1405.00</td>\n      <td>1405.000000</td>\n      <td>800.0</td>\n      <td>1.000000</td>\n      <td>1.000000</td>\n      <td>successful</td>\n    </tr>\n    <tr>\n      <th>13</th>\n      <td>5323</td>\n      <td>USD</td>\n      <td>USD</td>\n      <td>5323.00</td>\n      <td>5323.000000</td>\n      <td>4500.0</td>\n      <td>1.000000</td>\n      <td>1.000000</td>\n      <td>successful</td>\n    </tr>\n    <tr>\n      <th>14</th>\n      <td>7035</td>\n      <td>USD</td>\n      <td>USD</td>\n      <td>7035.00</td>\n      <td>7035.000000</td>\n      <td>7000.0</td>\n      <td>1.000000</td>\n      <td>1.000000</td>\n      <td>successful</td>\n    </tr>\n    <tr>\n      <th>15</th>\n      <td>110</td>\n      <td>USD</td>\n      <td>USD</td>\n      <td>110.00</td>\n      <td>110.000000</td>\n      <td>101.0</td>\n      <td>1.000000</td>\n      <td>1.000000</td>\n      <td>successful</td>\n    </tr>\n    <tr>\n      <th>16</th>\n      <td>4579</td>\n      <td>EUR</td>\n      <td>USD</td>\n      <td>4230.00</td>\n      <td>4701.023782</td>\n      <td>4200.0</td>\n      <td>1.128433</td>\n      <td>1.111353</td>\n      <td>successful</td>\n    </tr>\n    <tr>\n      <th>17</th>\n      <td>15957</td>\n      <td>AUD</td>\n      <td>USD</td>\n      <td>20169.00</td>\n      <td>15328.270782</td>\n      <td>15000.0</td>\n      <td>0.705792</td>\n      <td>0.759992</td>\n      <td>successful</td>\n    </tr>\n    <tr>\n      <th>18</th>\n      <td>5667</td>\n      <td>USD</td>\n      <td>USD</td>\n      <td>5667.00</td>\n      <td>5667.000000</td>\n      <td>5000.0</td>\n      <td>1.000000</td>\n      <td>1.000000</td>\n      <td>successful</td>\n    </tr>\n    <tr>\n      <th>19</th>\n      <td>760</td>\n      <td>USD</td>\n      <td>USD</td>\n      <td>760.00</td>\n      <td>760.000000</td>\n      <td>650.0</td>\n      <td>1.000000</td>\n      <td>1.000000</td>\n      <td>successful</td>\n    </tr>\n    <tr>\n      <th>20</th>\n      <td>2690</td>\n      <td>USD</td>\n      <td>USD</td>\n      <td>2690.14</td>\n      <td>2690.140000</td>\n      <td>2500.0</td>\n      <td>1.000000</td>\n      <td>1.000000</td>\n      <td>successful</td>\n    </tr>\n    <tr>\n      <th>21</th>\n      <td>117817</td>\n      <td>USD</td>\n      <td>USD</td>\n      <td>117817.00</td>\n      <td>117817.000000</td>\n      <td>50000.0</td>\n      <td>1.000000</td>\n      <td>1.000000</td>\n      <td>successful</td>\n    </tr>\n    <tr>\n      <th>22</th>\n      <td>705</td>\n      <td>NZD</td>\n      <td>USD</td>\n      <td>1015.00</td>\n      <td>702.613237</td>\n      <td>1000.0</td>\n      <td>0.684141</td>\n      <td>0.692230</td>\n      <td>successful</td>\n    </tr>\n    <tr>\n      <th>23</th>\n      <td>15670</td>\n      <td>USD</td>\n      <td>USD</td>\n      <td>15670.00</td>\n      <td>15670.000000</td>\n      <td>15000.0</td>\n      <td>1.000000</td>\n      <td>1.000000</td>\n      <td>successful</td>\n    </tr>\n    <tr>\n      <th>24</th>\n      <td>5</td>\n      <td>EUR</td>\n      <td>USD</td>\n      <td>5.00</td>\n      <td>5.473783</td>\n      <td>50000.0</td>\n      <td>1.128433</td>\n      <td>1.094757</td>\n      <td>failed</td>\n    </tr>\n    <tr>\n      <th>25</th>\n      <td>2808</td>\n      <td>GBP</td>\n      <td>USD</td>\n      <td>2199.00</td>\n      <td>2861.258251</td>\n      <td>2000.0</td>\n      <td>1.308394</td>\n      <td>1.301163</td>\n      <td>successful</td>\n    </tr>\n    <tr>\n      <th>26</th>\n      <td>617</td>\n      <td>USD</td>\n      <td>USD</td>\n      <td>617.00</td>\n      <td>617.000000</td>\n      <td>500.0</td>\n      <td>1.000000</td>\n      <td>1.000000</td>\n      <td>successful</td>\n    </tr>\n    <tr>\n      <th>28</th>\n      <td>14</td>\n      <td>GBP</td>\n      <td>USD</td>\n      <td>10.00</td>\n      <td>14.118491</td>\n      <td>5000.0</td>\n      <td>1.308394</td>\n      <td>1.411849</td>\n      <td>failed</td>\n    </tr>\n    <tr>\n      <th>29</th>\n      <td>437</td>\n      <td>EUR</td>\n      <td>USD</td>\n      <td>376.00</td>\n      <td>435.427090</td>\n      <td>350.0</td>\n      <td>1.128433</td>\n      <td>1.158051</td>\n      <td>successful</td>\n    </tr>\n    <tr>\n      <th>30</th>\n      <td>5466</td>\n      <td>USD</td>\n      <td>USD</td>\n      <td>5466.00</td>\n      <td>5466.000000</td>\n      <td>5000.0</td>\n      <td>1.000000</td>\n      <td>1.000000</td>\n      <td>successful</td>\n    </tr>\n    <tr>\n      <th>31</th>\n      <td>71</td>\n      <td>USD</td>\n      <td>USD</td>\n      <td>71.00</td>\n      <td>71.000000</td>\n      <td>30000.0</td>\n      <td>1.000000</td>\n      <td>1.000000</td>\n      <td>failed</td>\n    </tr>\n    <tr>\n      <th>32</th>\n      <td>14349</td>\n      <td>EUR</td>\n      <td>USD</td>\n      <td>11784.00</td>\n      <td>14580.639568</td>\n      <td>11000.0</td>\n      <td>1.128433</td>\n      <td>1.237325</td>\n      <td>successful</td>\n    </tr>\n    <tr>\n      <th>33</th>\n      <td>15420</td>\n      <td>USD</td>\n      <td>USD</td>\n      <td>15420.00</td>\n      <td>15420.000000</td>\n      <td>8999.0</td>\n      <td>1.000000</td>\n      <td>1.000000</td>\n      <td>successful</td>\n    </tr>\n    <tr>\n      <th>34</th>\n      <td>3263</td>\n      <td>GBP</td>\n      <td>USD</td>\n      <td>2055.00</td>\n      <td>3196.518202</td>\n      <td>2000.0</td>\n      <td>1.308394</td>\n      <td>1.555483</td>\n      <td>successful</td>\n    </tr>\n    <tr>\n      <th>35</th>\n      <td>1335</td>\n      <td>AUD</td>\n      <td>USD</td>\n      <td>1838.32</td>\n      <td>1325.061424</td>\n      <td>1800.0</td>\n      <td>0.705792</td>\n      <td>0.720800</td>\n      <td>successful</td>\n    </tr>\n    <tr>\n      <th>36</th>\n      <td>3801</td>\n      <td>USD</td>\n      <td>USD</td>\n      <td>3801.00</td>\n      <td>3801.000000</td>\n      <td>600.0</td>\n      <td>1.000000</td>\n      <td>1.000000</td>\n      <td>successful</td>\n    </tr>\n    <tr>\n      <th>37</th>\n      <td>11893</td>\n      <td>USD</td>\n      <td>USD</td>\n      <td>11893.00</td>\n      <td>11893.000000</td>\n      <td>2500.0</td>\n      <td>1.000000</td>\n      <td>1.000000</td>\n      <td>successful</td>\n    </tr>\n    <tr>\n      <th>38</th>\n      <td>29240</td>\n      <td>EUR</td>\n      <td>USD</td>\n      <td>27413.00</td>\n      <td>30340.896453</td>\n      <td>80000.0</td>\n      <td>1.128433</td>\n      <td>1.106807</td>\n      <td>failed</td>\n    </tr>\n    <tr>\n      <th>39</th>\n      <td>11579</td>\n      <td>GBP</td>\n      <td>USD</td>\n      <td>7898.00</td>\n      <td>11163.345566</td>\n      <td>10000.0</td>\n      <td>1.308394</td>\n      <td>1.413440</td>\n      <td>failed</td>\n    </tr>\n    <tr>\n      <th>40</th>\n      <td>322</td>\n      <td>USD</td>\n      <td>USD</td>\n      <td>322.00</td>\n      <td>322.000000</td>\n      <td>32223.0</td>\n      <td>1.000000</td>\n      <td>1.000000</td>\n      <td>failed</td>\n    </tr>\n    <tr>\n      <th>41</th>\n      <td>38</td>\n      <td>GBP</td>\n      <td>USD</td>\n      <td>25.00</td>\n      <td>38.814270</td>\n      <td>10000.0</td>\n      <td>1.308394</td>\n      <td>1.552571</td>\n      <td>failed</td>\n    </tr>\n    <tr>\n      <th>42</th>\n      <td>3120</td>\n      <td>USD</td>\n      <td>USD</td>\n      <td>3120.00</td>\n      <td>3120.000000</td>\n      <td>2550.0</td>\n      <td>1.000000</td>\n      <td>1.000000</td>\n      <td>successful</td>\n    </tr>\n    <tr>\n      <th>44</th>\n      <td>0</td>\n      <td>USD</td>\n      <td>USD</td>\n      <td>0.00</td>\n      <td>0.000000</td>\n      <td>2300.0</td>\n      <td>1.000000</td>\n      <td>1.000000</td>\n      <td>failed</td>\n    </tr>\n    <tr>\n      <th>45</th>\n      <td>26</td>\n      <td>EUR</td>\n      <td>USD</td>\n      <td>22.00</td>\n      <td>25.155047</td>\n      <td>30000.0</td>\n      <td>1.128433</td>\n      <td>1.143411</td>\n      <td>failed</td>\n    </tr>\n    <tr>\n      <th>46</th>\n      <td>45</td>\n      <td>USD</td>\n      <td>USD</td>\n      <td>45.00</td>\n      <td>45.000000</td>\n      <td>200000.0</td>\n      <td>1.000000</td>\n      <td>1.000000</td>\n      <td>failed</td>\n    </tr>\n    <tr>\n      <th>47</th>\n      <td>1479</td>\n      <td>USD</td>\n      <td>USD</td>\n      <td>1479.00</td>\n      <td>1479.000000</td>\n      <td>10000.0</td>\n      <td>1.000000</td>\n      <td>1.000000</td>\n      <td>failed</td>\n    </tr>\n    <tr>\n      <th>48</th>\n      <td>7523</td>\n      <td>USD</td>\n      <td>USD</td>\n      <td>7523.00</td>\n      <td>7523.000000</td>\n      <td>7500.0</td>\n      <td>1.000000</td>\n      <td>1.000000</td>\n      <td>successful</td>\n    </tr>\n    <tr>\n      <th>49</th>\n      <td>786</td>\n      <td>GBP</td>\n      <td>USD</td>\n      <td>510.00</td>\n      <td>792.348709</td>\n      <td>500.0</td>\n      <td>1.308394</td>\n      <td>1.553625</td>\n      <td>successful</td>\n    </tr>\n    <tr>\n      <th>50</th>\n      <td>236</td>\n      <td>GBP</td>\n      <td>USD</td>\n      <td>182.00</td>\n      <td>231.906218</td>\n      <td>2200.0</td>\n      <td>1.308394</td>\n      <td>1.274210</td>\n      <td>failed</td>\n    </tr>\n    <tr>\n      <th>51</th>\n      <td>3035</td>\n      <td>USD</td>\n      <td>USD</td>\n      <td>3035.00</td>\n      <td>3035.000000</td>\n      <td>3000.0</td>\n      <td>1.000000</td>\n      <td>1.000000</td>\n      <td>successful</td>\n    </tr>\n    <tr>\n      <th>52</th>\n      <td>1511</td>\n      <td>GBP</td>\n      <td>USD</td>\n      <td>1169.00</td>\n      <td>1511.243840</td>\n      <td>600.0</td>\n      <td>1.308394</td>\n      <td>1.292766</td>\n      <td>successful</td>\n    </tr>\n    <tr>\n      <th>53</th>\n      <td>3055</td>\n      <td>USD</td>\n      <td>USD</td>\n      <td>3055.00</td>\n      <td>3055.000000</td>\n      <td>3000.0</td>\n      <td>1.000000</td>\n      <td>1.000000</td>\n      <td>successful</td>\n    </tr>\n  </tbody>\n</table>\n</div>"
     },
     "metadata": {},
     "execution_count": 28
    }
   ],
   "source": [
    "frame[['converted_pledged_amount', 'currency', 'current_currency', 'pledged', 'usd_pledged', 'goal', 'fx_rate', 'static_usd_rate', 'state']].head(50)"
   ]
  },
  {
   "cell_type": "code",
   "execution_count": 29,
   "metadata": {},
   "outputs": [
    {
     "output_type": "stream",
     "name": "stdout",
     "text": [
      "<class 'pandas.core.frame.DataFrame'>\nInt64Index: 168979 entries, 1 to 209221\nData columns (total 37 columns):\n #   Column                    Non-Null Count   Dtype  \n---  ------                    --------------   -----  \n 0   backers_count             168979 non-null  int64  \n 1   blurb                     168977 non-null  object \n 2   category                  168979 non-null  object \n 3   converted_pledged_amount  168979 non-null  int64  \n 4   country                   168979 non-null  object \n 5   created_at                168979 non-null  int64  \n 6   creator                   168979 non-null  object \n 7   currency                  168979 non-null  object \n 8   currency_symbol           168979 non-null  object \n 9   currency_trailing_code    168979 non-null  bool   \n 10  current_currency          168979 non-null  object \n 11  deadline                  168979 non-null  int64  \n 12  disable_communication     168979 non-null  bool   \n 13  friends                   0 non-null       object \n 14  fx_rate                   168979 non-null  float64\n 15  goal                      168979 non-null  float64\n 16  id                        168979 non-null  int64  \n 17  is_backing                0 non-null       object \n 18  is_starrable              168979 non-null  bool   \n 19  is_starred                0 non-null       object \n 20  launched_at               168979 non-null  int64  \n 21  location                  168766 non-null  object \n 22  name                      168979 non-null  object \n 23  permissions               0 non-null       object \n 24  photo                     168979 non-null  object \n 25  pledged                   168979 non-null  float64\n 26  profile                   168979 non-null  object \n 27  slug                      168979 non-null  object \n 28  source_url                168979 non-null  object \n 29  spotlight                 168979 non-null  bool   \n 30  staff_pick                168979 non-null  bool   \n 31  state                     168979 non-null  object \n 32  state_changed_at          168979 non-null  int64  \n 33  static_usd_rate           168979 non-null  float64\n 34  urls                      168979 non-null  object \n 35  usd_pledged               168979 non-null  float64\n 36  usd_type                  168959 non-null  object \ndtypes: bool(5), float64(5), int64(7), object(20)\nmemory usage: 43.3+ MB\n"
     ]
    }
   ],
   "source": [
    "frame.info()"
   ]
  },
  {
   "source": [
    "- is the goal in usd or in local currency? Goal is in local currency\n",
    "\n",
    "Columns to keep:\n",
    "- usd_pledged for money amount\n",
    "- we will start with the minimum columns needed for a basic analysis (see below for which columns were kept)\n",
    "\n",
    "Columns to drop:\n",
    "- columns with no values:\n",
    "    - friends\n",
    "    - is_backing\n",
    "    - is_starred\n",
    "    - permissions\n",
    "- id (no duplicates any more)\n",
    "- converted_pledged_amount and usd_pledged appear to be the same info--drop one\n",
    "- currency, currency symbol, currency trailing code and current currency--drop\n",
    "- disable_communication\n",
    "- fx_rate\n",
    "- id\n",
    "- is_starrable\n",
    "- pledged appears to be in local currency--we will drop this and focus on the converted_pledged_amount\n",
    "- profile\n",
    "- slug\n",
    "- source_url\n",
    "- state_changed_at\n",
    "- static_usd_rate\n",
    "- url\n",
    "- usd_type\n",
    "\n",
    "Columns for re-engineering:\n",
    "\n",
    "\n",
    "    Necessary:\n",
    "    - goal is in local currency--convert to usd_goal (goal * static_usd_rate)\n",
    "    - category is a mess--extract the \"name\" info; this is necessary\n",
    "    - launch_at--is this some sort of time format? Could be important, to look at month project was launched (investigate day of week, if time allows); year isn't important for making recommendation (keep year for EDA--we will look for repetitive trends; make sure our assumptions are correct, e.g. if projects succeed or fail in particular month/day)\n",
    "    - deadline--use this in combination with created_at to find the duration of the campaign (although other analysis found that this factor makes only a small difference--so this can be lower priority)\n",
    "\n",
    "    If time allows:\n",
    "\n",
    "    - blurb--look at length, or do text analysis for content? Drop it initially, then go back if time allows\n",
    "    - creator--looks like a mix of individuals and organisations; column is messy and needs the \"Name\" to be extracted; we can look later on to see if different types of creators have more/less success--but will be a lot of work; probably needs individual coding for which creator is which\n",
    "    - creation_date--there seems to be a minor influence in terms of the time between project creation and launch date (can look at it if time allows)\n",
    "    - photo--maybe projects with photos get better funding? But not priority\n"
   ],
   "cell_type": "markdown",
   "metadata": {}
  },
  {
   "source": [
    "## Feature engineering"
   ],
   "cell_type": "markdown",
   "metadata": {}
  },
  {
   "cell_type": "code",
   "execution_count": 30,
   "metadata": {},
   "outputs": [],
   "source": [
    "# converting the goal to usd\n",
    "frame['usd_goal'] = frame['goal'] * frame['static_usd_rate']"
   ]
  },
  {
   "cell_type": "code",
   "execution_count": 31,
   "metadata": {},
   "outputs": [],
   "source": [
    "# extracting category--we need the first part of what's in the 'slug' key\n",
    "\n",
    "f = lambda x: x['category'].split('\"slug\":\"')[1].split('/')[0]\n",
    "frame['category'] = frame.apply(f, axis=1)\n",
    "f = lambda x: x['category'].split('\",\"position\"')[0] # Some categories do not have a sub-category, so do not have a '/' to split with\n",
    "frame['category'] = frame.apply(f, axis=1)"
   ]
  },
  {
   "cell_type": "code",
   "execution_count": 32,
   "metadata": {},
   "outputs": [
    {
     "output_type": "execute_result",
     "data": {
      "text/plain": [
       "   backers_count                                              blurb category  \\\n",
       "1             47  A colorful Dia de los Muertos themed oracle de...    games   \n",
       "2            271  Electra's long awaited, eclectic Debut Pop/Roc...    music   \n",
       "\n",
       "   converted_pledged_amount country  created_at  \\\n",
       "1                      1950      US  1501684093   \n",
       "2                     22404      US  1348987533   \n",
       "\n",
       "                                             creator currency currency_symbol  \\\n",
       "1  {\"id\":723886115,\"name\":\"Lisa Vollrath\",\"slug\":...      USD               $   \n",
       "2  {\"id\":323849677,\"name\":\"Electra\",\"is_registere...      USD               $   \n",
       "\n",
       "   currency_trailing_code current_currency    deadline  disable_communication  \\\n",
       "1                    True              USD  1504976459                  False   \n",
       "2                    True              USD  1371013395                  False   \n",
       "\n",
       "  friends  fx_rate     goal         id is_backing  is_starrable is_starred  \\\n",
       "1     NaN      1.0   1000.0  928751314        NaN         False        NaN   \n",
       "2     NaN      1.0  15000.0  928014092        NaN         False        NaN   \n",
       "\n",
       "   launched_at                                           location  \\\n",
       "1   1502384459  {\"id\":2400549,\"name\":\"Euless\",\"slug\":\"euless-t...   \n",
       "2   1368421395  {\"id\":2423474,\"name\":\"Hollywood\",\"slug\":\"holly...   \n",
       "\n",
       "                                                name permissions  \\\n",
       "1                            The Ofrenda Oracle Deck         NaN   \n",
       "2  Record Electra's Debut Album (Pop, Rock, Class...         NaN   \n",
       "\n",
       "                                               photo  pledged  \\\n",
       "1  {\"key\":\"assets/017/766/989/dd9f18c773a8546d996...   1950.0   \n",
       "2  {\"key\":\"assets/011/433/681/489fd66f7861fefd8c8...  22404.0   \n",
       "\n",
       "                                             profile  \\\n",
       "1  {\"id\":3094785,\"project_id\":3094785,\"state\":\"ac...   \n",
       "2  {\"id\":359847,\"project_id\":359847,\"state\":\"inac...   \n",
       "\n",
       "                                             slug  \\\n",
       "1                         the-ofrenda-oracle-deck   \n",
       "2  record-electras-debut-album-pop-rock-classical   \n",
       "\n",
       "                                          source_url  spotlight  staff_pick  \\\n",
       "1  https://www.kickstarter.com/discover/categorie...       True       False   \n",
       "2  https://www.kickstarter.com/discover/categorie...       True       False   \n",
       "\n",
       "        state  state_changed_at  static_usd_rate  \\\n",
       "1  successful        1504976459              1.0   \n",
       "2  successful        1371013395              1.0   \n",
       "\n",
       "                                                urls  usd_pledged  \\\n",
       "1  {\"web\":{\"project\":\"https://www.kickstarter.com...       1950.0   \n",
       "2  {\"web\":{\"project\":\"https://www.kickstarter.com...      22404.0   \n",
       "\n",
       "        usd_type  usd_goal  \n",
       "1       domestic    1000.0  \n",
       "2  international   15000.0  "
      ],
      "text/html": "<div>\n<style scoped>\n    .dataframe tbody tr th:only-of-type {\n        vertical-align: middle;\n    }\n\n    .dataframe tbody tr th {\n        vertical-align: top;\n    }\n\n    .dataframe thead th {\n        text-align: right;\n    }\n</style>\n<table border=\"1\" class=\"dataframe\">\n  <thead>\n    <tr style=\"text-align: right;\">\n      <th></th>\n      <th>backers_count</th>\n      <th>blurb</th>\n      <th>category</th>\n      <th>converted_pledged_amount</th>\n      <th>country</th>\n      <th>created_at</th>\n      <th>creator</th>\n      <th>currency</th>\n      <th>currency_symbol</th>\n      <th>currency_trailing_code</th>\n      <th>current_currency</th>\n      <th>deadline</th>\n      <th>disable_communication</th>\n      <th>friends</th>\n      <th>fx_rate</th>\n      <th>goal</th>\n      <th>id</th>\n      <th>is_backing</th>\n      <th>is_starrable</th>\n      <th>is_starred</th>\n      <th>launched_at</th>\n      <th>location</th>\n      <th>name</th>\n      <th>permissions</th>\n      <th>photo</th>\n      <th>pledged</th>\n      <th>profile</th>\n      <th>slug</th>\n      <th>source_url</th>\n      <th>spotlight</th>\n      <th>staff_pick</th>\n      <th>state</th>\n      <th>state_changed_at</th>\n      <th>static_usd_rate</th>\n      <th>urls</th>\n      <th>usd_pledged</th>\n      <th>usd_type</th>\n      <th>usd_goal</th>\n    </tr>\n  </thead>\n  <tbody>\n    <tr>\n      <th>1</th>\n      <td>47</td>\n      <td>A colorful Dia de los Muertos themed oracle de...</td>\n      <td>games</td>\n      <td>1950</td>\n      <td>US</td>\n      <td>1501684093</td>\n      <td>{\"id\":723886115,\"name\":\"Lisa Vollrath\",\"slug\":...</td>\n      <td>USD</td>\n      <td>$</td>\n      <td>True</td>\n      <td>USD</td>\n      <td>1504976459</td>\n      <td>False</td>\n      <td>NaN</td>\n      <td>1.0</td>\n      <td>1000.0</td>\n      <td>928751314</td>\n      <td>NaN</td>\n      <td>False</td>\n      <td>NaN</td>\n      <td>1502384459</td>\n      <td>{\"id\":2400549,\"name\":\"Euless\",\"slug\":\"euless-t...</td>\n      <td>The Ofrenda Oracle Deck</td>\n      <td>NaN</td>\n      <td>{\"key\":\"assets/017/766/989/dd9f18c773a8546d996...</td>\n      <td>1950.0</td>\n      <td>{\"id\":3094785,\"project_id\":3094785,\"state\":\"ac...</td>\n      <td>the-ofrenda-oracle-deck</td>\n      <td>https://www.kickstarter.com/discover/categorie...</td>\n      <td>True</td>\n      <td>False</td>\n      <td>successful</td>\n      <td>1504976459</td>\n      <td>1.0</td>\n      <td>{\"web\":{\"project\":\"https://www.kickstarter.com...</td>\n      <td>1950.0</td>\n      <td>domestic</td>\n      <td>1000.0</td>\n    </tr>\n    <tr>\n      <th>2</th>\n      <td>271</td>\n      <td>Electra's long awaited, eclectic Debut Pop/Roc...</td>\n      <td>music</td>\n      <td>22404</td>\n      <td>US</td>\n      <td>1348987533</td>\n      <td>{\"id\":323849677,\"name\":\"Electra\",\"is_registere...</td>\n      <td>USD</td>\n      <td>$</td>\n      <td>True</td>\n      <td>USD</td>\n      <td>1371013395</td>\n      <td>False</td>\n      <td>NaN</td>\n      <td>1.0</td>\n      <td>15000.0</td>\n      <td>928014092</td>\n      <td>NaN</td>\n      <td>False</td>\n      <td>NaN</td>\n      <td>1368421395</td>\n      <td>{\"id\":2423474,\"name\":\"Hollywood\",\"slug\":\"holly...</td>\n      <td>Record Electra's Debut Album (Pop, Rock, Class...</td>\n      <td>NaN</td>\n      <td>{\"key\":\"assets/011/433/681/489fd66f7861fefd8c8...</td>\n      <td>22404.0</td>\n      <td>{\"id\":359847,\"project_id\":359847,\"state\":\"inac...</td>\n      <td>record-electras-debut-album-pop-rock-classical</td>\n      <td>https://www.kickstarter.com/discover/categorie...</td>\n      <td>True</td>\n      <td>False</td>\n      <td>successful</td>\n      <td>1371013395</td>\n      <td>1.0</td>\n      <td>{\"web\":{\"project\":\"https://www.kickstarter.com...</td>\n      <td>22404.0</td>\n      <td>international</td>\n      <td>15000.0</td>\n    </tr>\n  </tbody>\n</table>\n</div>"
     },
     "metadata": {},
     "execution_count": 32
    }
   ],
   "source": [
    "frame.head(2)"
   ]
  },
  {
   "cell_type": "code",
   "execution_count": 33,
   "metadata": {},
   "outputs": [
    {
     "output_type": "execute_result",
     "data": {
      "text/plain": [
       "music           24591\n",
       "film & video    23889\n",
       "art             18061\n",
       "technology      17782\n",
       "publishing      16997\n",
       "food            13298\n",
       "games           10735\n",
       "fashion          8869\n",
       "comics           6358\n",
       "design           5883\n",
       "photography      5689\n",
       "crafts           5448\n",
       "theater          4686\n",
       "journalism       3684\n",
       "dance            3009\n",
       "Name: category, dtype: int64"
      ]
     },
     "metadata": {},
     "execution_count": 33
    }
   ],
   "source": [
    "frame['category'].value_counts()"
   ]
  },
  {
   "source": [
    "# converting the date and time columns\n",
    "\n",
    "cols_to_convert = ['created_at', 'deadline', 'launched_at']\n",
    "for c in cols_to_convert:\n",
    "    frame[c] = pd.to_datetime(frame[c], origin='unix', unit='s')"
   ],
   "cell_type": "code",
   "metadata": {},
   "execution_count": 35,
   "outputs": []
  },
  {
   "source": [
    "What to get from the columns with time:\n",
    "\n",
    "- these columns *may* have interesting information--such as the best month of the year to launch, or the best time of day. We can display this as graphs\n",
    "- however, this stratification of the data (e.g. by month, or by time of day) may be inappropriate for the model--this can hide certain trends (e.g. looking at time of day alone--it seems like 12-2pm is the best time to launch; but is that also the case for the weekend?)\n",
    "- we have to do more thinking about how to best include the timing information into the model exactly \n",
    "- for now (for our basic model) we will forego looking at the timing information--incorporate it later\n",
    "- what we *will* do is get the duration of the campaign, into a separate column"
   ],
   "cell_type": "markdown",
   "metadata": {}
  },
  {
   "cell_type": "code",
   "execution_count": 36,
   "metadata": {},
   "outputs": [
    {
     "output_type": "execute_result",
     "data": {
      "text/plain": [
       "   backers_count                                              blurb category  \\\n",
       "1             47  A colorful Dia de los Muertos themed oracle de...    games   \n",
       "2            271  Electra's long awaited, eclectic Debut Pop/Roc...    music   \n",
       "\n",
       "   converted_pledged_amount country          created_at  \\\n",
       "1                      1950      US 2017-08-02 14:28:13   \n",
       "2                     22404      US 2012-09-30 06:45:33   \n",
       "\n",
       "                                             creator currency currency_symbol  \\\n",
       "1  {\"id\":723886115,\"name\":\"Lisa Vollrath\",\"slug\":...      USD               $   \n",
       "2  {\"id\":323849677,\"name\":\"Electra\",\"is_registere...      USD               $   \n",
       "\n",
       "   currency_trailing_code current_currency            deadline  \\\n",
       "1                    True              USD 2017-09-09 17:00:59   \n",
       "2                    True              USD 2013-06-12 05:03:15   \n",
       "\n",
       "   disable_communication friends  fx_rate     goal         id is_backing  \\\n",
       "1                  False     NaN      1.0   1000.0  928751314        NaN   \n",
       "2                  False     NaN      1.0  15000.0  928014092        NaN   \n",
       "\n",
       "   is_starrable is_starred         launched_at  \\\n",
       "1         False        NaN 2017-08-10 17:00:59   \n",
       "2         False        NaN 2013-05-13 05:03:15   \n",
       "\n",
       "                                            location  \\\n",
       "1  {\"id\":2400549,\"name\":\"Euless\",\"slug\":\"euless-t...   \n",
       "2  {\"id\":2423474,\"name\":\"Hollywood\",\"slug\":\"holly...   \n",
       "\n",
       "                                                name permissions  \\\n",
       "1                            The Ofrenda Oracle Deck         NaN   \n",
       "2  Record Electra's Debut Album (Pop, Rock, Class...         NaN   \n",
       "\n",
       "                                               photo  pledged  \\\n",
       "1  {\"key\":\"assets/017/766/989/dd9f18c773a8546d996...   1950.0   \n",
       "2  {\"key\":\"assets/011/433/681/489fd66f7861fefd8c8...  22404.0   \n",
       "\n",
       "                                             profile  \\\n",
       "1  {\"id\":3094785,\"project_id\":3094785,\"state\":\"ac...   \n",
       "2  {\"id\":359847,\"project_id\":359847,\"state\":\"inac...   \n",
       "\n",
       "                                             slug  \\\n",
       "1                         the-ofrenda-oracle-deck   \n",
       "2  record-electras-debut-album-pop-rock-classical   \n",
       "\n",
       "                                          source_url  spotlight  staff_pick  \\\n",
       "1  https://www.kickstarter.com/discover/categorie...       True       False   \n",
       "2  https://www.kickstarter.com/discover/categorie...       True       False   \n",
       "\n",
       "        state  state_changed_at  static_usd_rate  \\\n",
       "1  successful        1504976459              1.0   \n",
       "2  successful        1371013395              1.0   \n",
       "\n",
       "                                                urls  usd_pledged  \\\n",
       "1  {\"web\":{\"project\":\"https://www.kickstarter.com...       1950.0   \n",
       "2  {\"web\":{\"project\":\"https://www.kickstarter.com...      22404.0   \n",
       "\n",
       "        usd_type  usd_goal  \n",
       "1       domestic    1000.0  \n",
       "2  international   15000.0  "
      ],
      "text/html": "<div>\n<style scoped>\n    .dataframe tbody tr th:only-of-type {\n        vertical-align: middle;\n    }\n\n    .dataframe tbody tr th {\n        vertical-align: top;\n    }\n\n    .dataframe thead th {\n        text-align: right;\n    }\n</style>\n<table border=\"1\" class=\"dataframe\">\n  <thead>\n    <tr style=\"text-align: right;\">\n      <th></th>\n      <th>backers_count</th>\n      <th>blurb</th>\n      <th>category</th>\n      <th>converted_pledged_amount</th>\n      <th>country</th>\n      <th>created_at</th>\n      <th>creator</th>\n      <th>currency</th>\n      <th>currency_symbol</th>\n      <th>currency_trailing_code</th>\n      <th>current_currency</th>\n      <th>deadline</th>\n      <th>disable_communication</th>\n      <th>friends</th>\n      <th>fx_rate</th>\n      <th>goal</th>\n      <th>id</th>\n      <th>is_backing</th>\n      <th>is_starrable</th>\n      <th>is_starred</th>\n      <th>launched_at</th>\n      <th>location</th>\n      <th>name</th>\n      <th>permissions</th>\n      <th>photo</th>\n      <th>pledged</th>\n      <th>profile</th>\n      <th>slug</th>\n      <th>source_url</th>\n      <th>spotlight</th>\n      <th>staff_pick</th>\n      <th>state</th>\n      <th>state_changed_at</th>\n      <th>static_usd_rate</th>\n      <th>urls</th>\n      <th>usd_pledged</th>\n      <th>usd_type</th>\n      <th>usd_goal</th>\n    </tr>\n  </thead>\n  <tbody>\n    <tr>\n      <th>1</th>\n      <td>47</td>\n      <td>A colorful Dia de los Muertos themed oracle de...</td>\n      <td>games</td>\n      <td>1950</td>\n      <td>US</td>\n      <td>2017-08-02 14:28:13</td>\n      <td>{\"id\":723886115,\"name\":\"Lisa Vollrath\",\"slug\":...</td>\n      <td>USD</td>\n      <td>$</td>\n      <td>True</td>\n      <td>USD</td>\n      <td>2017-09-09 17:00:59</td>\n      <td>False</td>\n      <td>NaN</td>\n      <td>1.0</td>\n      <td>1000.0</td>\n      <td>928751314</td>\n      <td>NaN</td>\n      <td>False</td>\n      <td>NaN</td>\n      <td>2017-08-10 17:00:59</td>\n      <td>{\"id\":2400549,\"name\":\"Euless\",\"slug\":\"euless-t...</td>\n      <td>The Ofrenda Oracle Deck</td>\n      <td>NaN</td>\n      <td>{\"key\":\"assets/017/766/989/dd9f18c773a8546d996...</td>\n      <td>1950.0</td>\n      <td>{\"id\":3094785,\"project_id\":3094785,\"state\":\"ac...</td>\n      <td>the-ofrenda-oracle-deck</td>\n      <td>https://www.kickstarter.com/discover/categorie...</td>\n      <td>True</td>\n      <td>False</td>\n      <td>successful</td>\n      <td>1504976459</td>\n      <td>1.0</td>\n      <td>{\"web\":{\"project\":\"https://www.kickstarter.com...</td>\n      <td>1950.0</td>\n      <td>domestic</td>\n      <td>1000.0</td>\n    </tr>\n    <tr>\n      <th>2</th>\n      <td>271</td>\n      <td>Electra's long awaited, eclectic Debut Pop/Roc...</td>\n      <td>music</td>\n      <td>22404</td>\n      <td>US</td>\n      <td>2012-09-30 06:45:33</td>\n      <td>{\"id\":323849677,\"name\":\"Electra\",\"is_registere...</td>\n      <td>USD</td>\n      <td>$</td>\n      <td>True</td>\n      <td>USD</td>\n      <td>2013-06-12 05:03:15</td>\n      <td>False</td>\n      <td>NaN</td>\n      <td>1.0</td>\n      <td>15000.0</td>\n      <td>928014092</td>\n      <td>NaN</td>\n      <td>False</td>\n      <td>NaN</td>\n      <td>2013-05-13 05:03:15</td>\n      <td>{\"id\":2423474,\"name\":\"Hollywood\",\"slug\":\"holly...</td>\n      <td>Record Electra's Debut Album (Pop, Rock, Class...</td>\n      <td>NaN</td>\n      <td>{\"key\":\"assets/011/433/681/489fd66f7861fefd8c8...</td>\n      <td>22404.0</td>\n      <td>{\"id\":359847,\"project_id\":359847,\"state\":\"inac...</td>\n      <td>record-electras-debut-album-pop-rock-classical</td>\n      <td>https://www.kickstarter.com/discover/categorie...</td>\n      <td>True</td>\n      <td>False</td>\n      <td>successful</td>\n      <td>1371013395</td>\n      <td>1.0</td>\n      <td>{\"web\":{\"project\":\"https://www.kickstarter.com...</td>\n      <td>22404.0</td>\n      <td>international</td>\n      <td>15000.0</td>\n    </tr>\n  </tbody>\n</table>\n</div>"
     },
     "metadata": {},
     "execution_count": 36
    }
   ],
   "source": [
    "frame.head(2)"
   ]
  },
  {
   "cell_type": "code",
   "execution_count": 41,
   "metadata": {},
   "outputs": [],
   "source": [
    "#creating the campaign duration column in days (deadline - launched_at)\n",
    "frame.to = frame['deadline']\n",
    "frame.fr = frame['launched_at']\n",
    "frame['campaign_duration'] = (frame.to-frame.fr).astype('timedelta64[D]')"
   ]
  },
  {
   "source": [
    "## Creating trimmed dataframe"
   ],
   "cell_type": "markdown",
   "metadata": {}
  },
  {
   "cell_type": "code",
   "execution_count": 34,
   "metadata": {},
   "outputs": [],
   "source": [
    "# create a trimmed dataframe; \n",
    "\n",
    "#use with ~isin\n",
    "cols_to_drop = ['blurb', 'converted_pledged_amount',\n",
    "       'country', 'created_at', 'creator', 'currency', 'currency_symbol',\n",
    "       'currency_trailing_code', 'current_currency', 'deadline',\n",
    "       'disable_communication', 'friends', 'fx_rate', 'goal', 'id',\n",
    "       'is_backing', 'is_starrable', 'is_starred', 'launched_at', 'location',\n",
    "       'name', 'permissions', 'photo', 'pledged', 'profile', 'slug',\n",
    "       'source_url', 'spotlight', 'staff_pick', 'state', 'state_changed_at',\n",
    "       'static_usd_rate', 'urls', 'usd_pledged', 'usd_type']"
   ]
  }
 ]
}